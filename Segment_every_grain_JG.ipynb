{
 "cells": [
  {
   "cell_type": "markdown",
   "id": "95a8f02b",
   "metadata": {},
   "source": [
    "## Import packages"
   ]
  },
  {
   "cell_type": "code",
   "execution_count": 1,
   "id": "f2ebc518",
   "metadata": {},
   "outputs": [],
   "source": [
    "import pandas as pd\n",
    "import numpy as np\n",
    "import matplotlib.pyplot as plt\n",
    "import cv2\n",
    "from skimage import measure\n",
    "from skimage.measure import regionprops, regionprops_table\n",
    "from tensorflow.keras.optimizers.legacy import Adam\n",
    "from tensorflow.keras.preprocessing.image import load_img\n",
    "from importlib import reload\n",
    "import segmenteverygrain as seg\n",
    "from segment_anything import sam_model_registry, SamAutomaticMaskGenerator, SamPredictor\n",
    "from tqdm import trange\n",
    "%matplotlib qt"
   ]
  },
  {
   "cell_type": "markdown",
   "id": "f474ac20",
   "metadata": {},
   "source": [
    "## Load models"
   ]
  },
  {
   "cell_type": "code",
   "execution_count": 2,
   "id": "fe1bd2bc",
   "metadata": {},
   "outputs": [],
   "source": [
    "model = seg.Unet()\n",
    "model.compile(optimizer=Adam(), loss=seg.weighted_crossentropy, metrics=[\"accuracy\"])\n",
    "model.load_weights('./checkpoints/seg_model') # replace this if you have a finetuned Unet model and want to use it\n",
    "\n",
    "# the SAM model checkpoints can be downloaded from: https://dl.fbaipublicfiles.com/segment_anything/sam_vit_h_4b8939.pth\n",
    "sam = sam_model_registry[\"default\"](checkpoint=r\"C:\\Users\\juan_\\Python\\JSG_2024_Hackathon\\segmenteverygrain\\SAM\\sam_vit_h_4b8939.pth\")"
   ]
  },
  {
   "cell_type": "markdown",
   "id": "a3c1dfc6",
   "metadata": {},
   "source": [
    "## Run segmentation\n",
    "\n",
    "Grains are supposed to be well defined in the image; e.g., if a grain consists of only a few pixels, it is unlikely to be detected.\n",
    "\n",
    "The segmentation can take a few minutes even for medium-sized images. Images with ~2000 pixels along their largest dimension are a good start and allow the user to get an idea about how well the segmentation works.\n",
    "\n",
    "If you have a much larger image, see the section **\"Run segmentation on large image\"** at the end of the notebook. Running the `predict_large_image` function takes a lot longer (e.g., several hours), but it is possible to analyze very large images with tens of thousands of grains.\n",
    "\n",
    "Image used below is available from [here](https://github.com/zsylvester/segmenteverygrain/blob/main/torrey_pines_beach.jpeg)."
   ]
  },
  {
   "cell_type": "code",
   "execution_count": 3,
   "id": "94bf3f94",
   "metadata": {},
   "outputs": [
    {
     "name": "stdout",
     "output_type": "stream",
     "text": [
      "segmenting image tiles...\n"
     ]
    },
    {
     "name": "stderr",
     "output_type": "stream",
     "text": [
      "100%|████████████████████████████████████████████████████████████████████████████████████| 4/4 [00:02<00:00,  1.91it/s]\n",
      "100%|████████████████████████████████████████████████████████████████████████████████████| 3/3 [00:01<00:00,  2.82it/s]\n"
     ]
    }
   ],
   "source": [
    "# replace this with the path to your image:\n",
    "fname = r\"C:\\Users\\juan_\\Python\\JSG_2024_Hackathon\\1973\\wellsorted_lowerfinegrainsize.PNG\"\n",
    "\n",
    "image = np.array(load_img(fname))\n",
    "image_pred = seg.predict_image(image, model, I=256)\n",
    "\n",
    "# decreasing the 'dbs_max_dist' parameter results in more SAM prompts (and longer processing times):\n",
    "labels, coords = seg.label_grains(image, image_pred, dbs_max_dist=20.0) # Unet prediction"
   ]
  },
  {
   "cell_type": "markdown",
   "id": "7c091d4c",
   "metadata": {},
   "source": [
    "Use the figure created in the next cell to check the quality of the Unet labeling (sometimes it doesn't work at all) and the distribution of SAM prompts (= black dots). If the Unet prediction is of poor quality, it is a good idea to create some training data and fine tune the base model so that it works better with the images of interest."
   ]
  },
  {
   "cell_type": "code",
   "execution_count": 4,
   "id": "e031a13f",
   "metadata": {},
   "outputs": [],
   "source": [
    "plt.figure(figsize=(15,10))\n",
    "plt.imshow(image_pred)\n",
    "plt.scatter(np.array(coords)[:,0], np.array(coords)[:,1], c='k')\n",
    "plt.xticks([])\n",
    "plt.yticks([]);"
   ]
  },
  {
   "cell_type": "code",
   "execution_count": 5,
   "id": "99bcedac-6a3f-4f1d-97a9-b167fa14994c",
   "metadata": {},
   "outputs": [
    {
     "name": "stdout",
     "output_type": "stream",
     "text": [
      "creating masks using SAM...\n"
     ]
    },
    {
     "name": "stderr",
     "output_type": "stream",
     "text": [
      "100%|████████████████████████████████████████████████████████████████████████████████| 350/350 [00:28<00:00, 12.37it/s]\n"
     ]
    },
    {
     "name": "stdout",
     "output_type": "stream",
     "text": [
      "finding overlapping polygons...\n"
     ]
    },
    {
     "name": "stderr",
     "output_type": "stream",
     "text": [
      "336it [00:00, 423.11it/s]\n"
     ]
    },
    {
     "name": "stdout",
     "output_type": "stream",
     "text": [
      "finding best polygons...\n"
     ]
    },
    {
     "name": "stderr",
     "output_type": "stream",
     "text": [
      "100%|███████████████████████████████████████████████████████████████████████████████| 121/121 [00:00<00:00, 163.59it/s]\n"
     ]
    },
    {
     "name": "stdout",
     "output_type": "stream",
     "text": [
      "creating labeled image...\n"
     ]
    },
    {
     "name": "stderr",
     "output_type": "stream",
     "text": [
      "100%|███████████████████████████████████████████████████████████████████████████████| 130/130 [00:00<00:00, 203.16it/s]\n"
     ]
    }
   ],
   "source": [
    "# SAM segmentation, using the point prompts from the Unet:\n",
    "all_grains, labels, mask_all, grain_data, fig, ax = seg.sam_segmentation(sam, image, image_pred, \n",
    "                                                coords, labels, min_area=400.0, plot_image=True, remove_edge_grains=False, remove_large_objects=False)"
   ]
  },
  {
   "cell_type": "markdown",
   "id": "968737c4",
   "metadata": {},
   "source": [
    "## Delete or merge grains in segmentation result\n",
    "* click on the grain that you want to remove and press the 'x' key\n",
    "* click on two grains that you want to merge and press the 'm' key (they have to be the last two grains you clicked on)\n",
    "* press the 'g' key to hide the grain masks (so that you can see the original image better); press the 'g' key again to show the grain masks"
   ]
  },
  {
   "cell_type": "code",
   "execution_count": 6,
   "id": "e1761761",
   "metadata": {},
   "outputs": [],
   "source": [
    "grain_inds = []\n",
    "cid1 = fig.canvas.mpl_connect('button_press_event', \n",
    "                              lambda event: seg.onclick2(event, all_grains, grain_inds, ax=ax))\n",
    "cid2 = fig.canvas.mpl_connect('key_press_event', \n",
    "                              lambda event: seg.onpress2(event, all_grains, grain_inds, fig=fig, ax=ax))"
   ]
  },
  {
   "cell_type": "markdown",
   "id": "5d08448d",
   "metadata": {},
   "source": [
    "Run this cell if you do not want to delete / merge existing grains anymore; it is a good idea to do this before moving on to the next step."
   ]
  },
  {
   "cell_type": "code",
   "execution_count": 7,
   "id": "8b6987ae",
   "metadata": {},
   "outputs": [],
   "source": [
    "fig.canvas.mpl_disconnect(cid1)\n",
    "fig.canvas.mpl_disconnect(cid2)"
   ]
  },
  {
   "cell_type": "markdown",
   "id": "b1ef7d75",
   "metadata": {},
   "source": [
    "Use this function to update the 'labels' array after deleting and merging grains (the 'all_grains' list is updated when doing the deletion and merging):"
   ]
  },
  {
   "cell_type": "code",
   "execution_count": 8,
   "id": "9f7b8082",
   "metadata": {},
   "outputs": [
    {
     "name": "stderr",
     "output_type": "stream",
     "text": [
      "100%|██████████████████████████████████████████████████████████████████████████████| 129/129 [00:00<00:00, 3638.73it/s]\n",
      "100%|███████████████████████████████████████████████████████████████████████████████| 129/129 [00:00<00:00, 231.81it/s]\n"
     ]
    }
   ],
   "source": [
    "all_grains, labels, mask_all, fig, ax = seg.get_grains_from_patches(ax, image)"
   ]
  },
  {
   "cell_type": "markdown",
   "id": "36ca344c",
   "metadata": {},
   "source": [
    "Plot the updated set of grains:"
   ]
  },
  {
   "cell_type": "code",
   "execution_count": 12,
   "id": "7e0f7f02",
   "metadata": {},
   "outputs": [
    {
     "name": "stderr",
     "output_type": "stream",
     "text": [
      "100%|███████████████████████████████████████████████████████████████████████████████| 129/129 [00:00<00:00, 237.05it/s]\n"
     ]
    }
   ],
   "source": [
    "fig, ax = plt.subplots(figsize=(15,10))\n",
    "plt.xticks([])\n",
    "plt.yticks([])\n",
    "seg.plot_image_w_colorful_grains(image, all_grains, ax, cmap='Paired', plot_image=False)\n",
    "seg.plot_grain_axes_and_centroids(all_grains, labels, ax, linewidth=1, markersize=10)\n",
    "plt.xlim([0, np.shape(image)[1]])\n",
    "plt.ylim([np.shape(image)[0], 0]);"
   ]
  },
  {
   "cell_type": "markdown",
   "id": "ab7201a5",
   "metadata": {},
   "source": [
    "## Add new grains using the Segment Anything Model\n",
    "\n",
    "* click on unsegmented grain that you want to add\n",
    "* press the 'x' key if you want to delete the last grain you added\n",
    "* press the 'm' key if you want to merge the last two grains that you added\n",
    "* right click outside the grain (but inside the most recent mask) if you want to restrict the grain to a smaller mask - this adds a background prompt"
   ]
  },
  {
   "cell_type": "code",
   "execution_count": 13,
   "id": "04b1a138",
   "metadata": {},
   "outputs": [],
   "source": [
    "predictor = SamPredictor(sam)\n",
    "predictor.set_image(image) # this can take a while\n",
    "coords = []\n",
    "cid3 = fig.canvas.mpl_connect('button_press_event', lambda event: seg.onclick(event, ax, coords, image, predictor))\n",
    "cid4 = fig.canvas.mpl_connect('key_press_event', lambda event: seg.onpress(event, ax, fig))"
   ]
  },
  {
   "cell_type": "code",
   "execution_count": 14,
   "id": "02386a92",
   "metadata": {},
   "outputs": [],
   "source": [
    "fig.canvas.mpl_disconnect(cid3)\n",
    "fig.canvas.mpl_disconnect(cid4)"
   ]
  },
  {
   "cell_type": "code",
   "execution_count": 15,
   "id": "201341bc-8f56-4b82-912b-dbedaf4d974b",
   "metadata": {},
   "outputs": [
    {
     "name": "stderr",
     "output_type": "stream",
     "text": [
      "100%|██████████████████████████████████████████████████████████████████████████████| 252/252 [00:00<00:00, 3445.60it/s]\n",
      "100%|███████████████████████████████████████████████████████████████████████████████| 252/252 [00:00<00:00, 334.84it/s]\n"
     ]
    }
   ],
   "source": [
    "all_grains, labels, mask_all, fig, ax = seg.get_grains_from_patches(ax, image)"
   ]
  },
  {
   "cell_type": "markdown",
   "id": "6ae4b89a",
   "metadata": {},
   "source": [
    "After you are done with the deletion / addition of grain masks, run this cell to generate an updated set of grains:"
   ]
  },
  {
   "cell_type": "code",
   "execution_count": 16,
   "id": "4355b526",
   "metadata": {},
   "outputs": [
    {
     "name": "stderr",
     "output_type": "stream",
     "text": [
      "100%|██████████████████████████████████████████████████████████████████████████████| 252/252 [00:00<00:00, 8524.05it/s]\n",
      "100%|███████████████████████████████████████████████████████████████████████████████| 252/252 [00:00<00:00, 328.29it/s]\n"
     ]
    }
   ],
   "source": [
    "all_grains, labels, mask_all, fig, ax = seg.get_grains_from_patches(ax, image)"
   ]
  },
  {
   "cell_type": "markdown",
   "id": "768a05d2",
   "metadata": {},
   "source": [
    "## Get grain size distribution"
   ]
  },
  {
   "cell_type": "markdown",
   "id": "96892a89",
   "metadata": {},
   "source": [
    "Run this cell and then click (left mouse button) on one end of the scale bar in the image and click (right mouse button) on the other end of the scale bar:"
   ]
  },
  {
   "cell_type": "code",
   "execution_count": 17,
   "id": "869c6cd4",
   "metadata": {},
   "outputs": [],
   "source": [
    "cid5 = fig.canvas.mpl_connect('button_press_event', lambda event: seg.click_for_scale(event, ax))"
   ]
  },
  {
   "cell_type": "markdown",
   "id": "658e2f0a",
   "metadata": {},
   "source": [
    "Use the length of the scale bar in pixels (it should be printed above) to get the scale of the image (in units / pixel):"
   ]
  },
  {
   "cell_type": "code",
   "execution_count": 81,
   "id": "7893cfb7",
   "metadata": {},
   "outputs": [],
   "source": [
    "n_of_units = 1000\n",
    "#units_per_pixel = n_of_units/1552.77 # length of scale bar in pixels\n",
    "units_per_pixel = n_of_units/164 # length of scale bar in pixels"
   ]
  },
  {
   "cell_type": "code",
   "execution_count": 83,
   "id": "b56c5732",
   "metadata": {},
   "outputs": [],
   "source": [
    "props = regionprops_table(labels.astype('int'), intensity_image = image, properties =\\\n",
    "        ('label', 'area', 'centroid', 'major_axis_length', 'minor_axis_length', \n",
    "         'orientation', 'perimeter', 'max_intensity', 'mean_intensity', 'min_intensity'))\n",
    "grain_data = pd.DataFrame(props)\n",
    "grain_data['major_axis_length'] = grain_data['major_axis_length'].values*units_per_pixel\n",
    "grain_data['minor_axis_length'] = grain_data['minor_axis_length'].values*units_per_pixel\n",
    "grain_data['perimeter'] = grain_data['perimeter'].values*units_per_pixel\n",
    "grain_data['area'] = grain_data['area'].values*units_per_pixel**2"
   ]
  },
  {
   "cell_type": "code",
   "execution_count": 84,
   "id": "202f5650",
   "metadata": {},
   "outputs": [
    {
     "data": {
      "text/html": [
       "<div>\n",
       "<style scoped>\n",
       "    .dataframe tbody tr th:only-of-type {\n",
       "        vertical-align: middle;\n",
       "    }\n",
       "\n",
       "    .dataframe tbody tr th {\n",
       "        vertical-align: top;\n",
       "    }\n",
       "\n",
       "    .dataframe thead th {\n",
       "        text-align: right;\n",
       "    }\n",
       "</style>\n",
       "<table border=\"1\" class=\"dataframe\">\n",
       "  <thead>\n",
       "    <tr style=\"text-align: right;\">\n",
       "      <th></th>\n",
       "      <th>label</th>\n",
       "      <th>area</th>\n",
       "      <th>centroid-0</th>\n",
       "      <th>centroid-1</th>\n",
       "      <th>major_axis_length</th>\n",
       "      <th>minor_axis_length</th>\n",
       "      <th>orientation</th>\n",
       "      <th>perimeter</th>\n",
       "      <th>max_intensity-0</th>\n",
       "      <th>max_intensity-1</th>\n",
       "      <th>max_intensity-2</th>\n",
       "      <th>mean_intensity-0</th>\n",
       "      <th>mean_intensity-1</th>\n",
       "      <th>mean_intensity-2</th>\n",
       "      <th>min_intensity-0</th>\n",
       "      <th>min_intensity-1</th>\n",
       "      <th>min_intensity-2</th>\n",
       "    </tr>\n",
       "  </thead>\n",
       "  <tbody>\n",
       "    <tr>\n",
       "      <th>0</th>\n",
       "      <td>1</td>\n",
       "      <td>16396.490184</td>\n",
       "      <td>18.868481</td>\n",
       "      <td>141.802721</td>\n",
       "      <td>171.529970</td>\n",
       "      <td>122.512225</td>\n",
       "      <td>1.493505</td>\n",
       "      <td>475.250765</td>\n",
       "      <td>255.0</td>\n",
       "      <td>255.0</td>\n",
       "      <td>255.0</td>\n",
       "      <td>213.113379</td>\n",
       "      <td>213.113379</td>\n",
       "      <td>213.113379</td>\n",
       "      <td>15.0</td>\n",
       "      <td>15.0</td>\n",
       "      <td>15.0</td>\n",
       "    </tr>\n",
       "    <tr>\n",
       "      <th>1</th>\n",
       "      <td>2</td>\n",
       "      <td>27736.466389</td>\n",
       "      <td>124.817694</td>\n",
       "      <td>741.646113</td>\n",
       "      <td>234.444036</td>\n",
       "      <td>152.148058</td>\n",
       "      <td>0.115414</td>\n",
       "      <td>644.756801</td>\n",
       "      <td>255.0</td>\n",
       "      <td>255.0</td>\n",
       "      <td>255.0</td>\n",
       "      <td>227.486595</td>\n",
       "      <td>227.486595</td>\n",
       "      <td>227.486595</td>\n",
       "      <td>63.0</td>\n",
       "      <td>63.0</td>\n",
       "      <td>63.0</td>\n",
       "    </tr>\n",
       "    <tr>\n",
       "      <th>2</th>\n",
       "      <td>3</td>\n",
       "      <td>21861.986913</td>\n",
       "      <td>249.421769</td>\n",
       "      <td>394.579932</td>\n",
       "      <td>212.735240</td>\n",
       "      <td>134.849913</td>\n",
       "      <td>-0.239939</td>\n",
       "      <td>574.291257</td>\n",
       "      <td>255.0</td>\n",
       "      <td>255.0</td>\n",
       "      <td>255.0</td>\n",
       "      <td>213.530612</td>\n",
       "      <td>213.530612</td>\n",
       "      <td>213.530612</td>\n",
       "      <td>34.0</td>\n",
       "      <td>34.0</td>\n",
       "      <td>34.0</td>\n",
       "    </tr>\n",
       "    <tr>\n",
       "      <th>3</th>\n",
       "      <td>4</td>\n",
       "      <td>29521.118382</td>\n",
       "      <td>52.093199</td>\n",
       "      <td>58.955919</td>\n",
       "      <td>273.448640</td>\n",
       "      <td>142.340622</td>\n",
       "      <td>0.262980</td>\n",
       "      <td>709.304279</td>\n",
       "      <td>255.0</td>\n",
       "      <td>255.0</td>\n",
       "      <td>255.0</td>\n",
       "      <td>219.547859</td>\n",
       "      <td>219.547859</td>\n",
       "      <td>219.547859</td>\n",
       "      <td>65.0</td>\n",
       "      <td>65.0</td>\n",
       "      <td>65.0</td>\n",
       "    </tr>\n",
       "    <tr>\n",
       "      <th>4</th>\n",
       "      <td>5</td>\n",
       "      <td>16582.391434</td>\n",
       "      <td>74.475336</td>\n",
       "      <td>99.488789</td>\n",
       "      <td>166.217270</td>\n",
       "      <td>128.049989</td>\n",
       "      <td>0.456820</td>\n",
       "      <td>478.822634</td>\n",
       "      <td>251.0</td>\n",
       "      <td>251.0</td>\n",
       "      <td>251.0</td>\n",
       "      <td>123.484305</td>\n",
       "      <td>123.484305</td>\n",
       "      <td>123.484305</td>\n",
       "      <td>15.0</td>\n",
       "      <td>15.0</td>\n",
       "      <td>15.0</td>\n",
       "    </tr>\n",
       "  </tbody>\n",
       "</table>\n",
       "</div>"
      ],
      "text/plain": [
       "   label          area  centroid-0  centroid-1  major_axis_length  \\\n",
       "0      1  16396.490184   18.868481  141.802721         171.529970   \n",
       "1      2  27736.466389  124.817694  741.646113         234.444036   \n",
       "2      3  21861.986913  249.421769  394.579932         212.735240   \n",
       "3      4  29521.118382   52.093199   58.955919         273.448640   \n",
       "4      5  16582.391434   74.475336   99.488789         166.217270   \n",
       "\n",
       "   minor_axis_length  orientation   perimeter  max_intensity-0  \\\n",
       "0         122.512225     1.493505  475.250765            255.0   \n",
       "1         152.148058     0.115414  644.756801            255.0   \n",
       "2         134.849913    -0.239939  574.291257            255.0   \n",
       "3         142.340622     0.262980  709.304279            255.0   \n",
       "4         128.049989     0.456820  478.822634            251.0   \n",
       "\n",
       "   max_intensity-1  max_intensity-2  mean_intensity-0  mean_intensity-1  \\\n",
       "0            255.0            255.0        213.113379        213.113379   \n",
       "1            255.0            255.0        227.486595        227.486595   \n",
       "2            255.0            255.0        213.530612        213.530612   \n",
       "3            255.0            255.0        219.547859        219.547859   \n",
       "4            251.0            251.0        123.484305        123.484305   \n",
       "\n",
       "   mean_intensity-2  min_intensity-0  min_intensity-1  min_intensity-2  \n",
       "0        213.113379             15.0             15.0             15.0  \n",
       "1        227.486595             63.0             63.0             63.0  \n",
       "2        213.530612             34.0             34.0             34.0  \n",
       "3        219.547859             65.0             65.0             65.0  \n",
       "4        123.484305             15.0             15.0             15.0  "
      ]
     },
     "execution_count": 84,
     "metadata": {},
     "output_type": "execute_result"
    }
   ],
   "source": [
    "grain_data.head()"
   ]
  },
  {
   "cell_type": "code",
   "execution_count": 85,
   "id": "5a701881-07fa-4662-aafa-d432661fafff",
   "metadata": {},
   "outputs": [],
   "source": [
    "grain_data.to_csv(fname[:-4]+'.csv') # save grain data to CSV file"
   ]
  },
  {
   "cell_type": "code",
   "execution_count": 86,
   "id": "a8663eef",
   "metadata": {},
   "outputs": [],
   "source": [
    "# plot histogram of grain axis lengths\n",
    "plt.figure()\n",
    "plt.hist(grain_data['major_axis_length'], np.arange(0, 100, 1), alpha=0.5)\n",
    "plt.hist(grain_data['minor_axis_length'], np.arange(0, 100, 1), alpha=0.5)\n",
    "plt.xlim(0,100)\n",
    "plt.xlabel('axis length (microns)')\n",
    "plt.ylabel('count');"
   ]
  },
  {
   "cell_type": "markdown",
   "id": "b1288091-8d51-4550-a6e3-7d9ea9a06654",
   "metadata": {},
   "source": [
    "## Normalize area for Montecarlo simulation"
   ]
  },
  {
   "cell_type": "code",
   "execution_count": 62,
   "id": "7ca789d8-c6a4-458b-bba2-293dd33c4655",
   "metadata": {},
   "outputs": [
    {
     "name": "stdout",
     "output_type": "stream",
     "text": [
      "     Unnamed: 0  label        area  centroid-0  centroid-1  major_axis_length  \\\n",
      "199         199    200  152.213019  488.359673   59.945504          15.795735   \n",
      "103         103    104  890.466900  353.754075  334.764322          46.189102   \n",
      "97           97     98  313.135775  324.728477  564.162914          30.455150   \n",
      "211         211    212  174.194736  125.730952  620.178571          17.370498   \n",
      "159         159    160  183.733972  301.679458   19.638826          18.567575   \n",
      "..          ...    ...         ...         ...         ...                ...   \n",
      "15           15     16  239.725137   99.835640  475.581315          20.032318   \n",
      "14           14     15  283.273821   84.759883   47.339678          23.428760   \n",
      "141         141    142   82.120376  479.338384  650.116162          15.383574   \n",
      "25           25     26  217.743420  404.161905  667.125714          22.766728   \n",
      "80           80     81  282.444322  160.907489  354.866373          20.802108   \n",
      "\n",
      "     minor_axis_length  orientation   perimeter  max_intensity-0  \\\n",
      "199          12.581714     0.464494   46.330832            253.0   \n",
      "103          25.086446     0.283197  121.245920            255.0   \n",
      "97           13.262977    -0.453139   73.939594            255.0   \n",
      "211          12.808291    -0.780521   48.529621            187.0   \n",
      "159          13.574878     1.131639   55.503240            234.0   \n",
      "..                 ...          ...         ...              ...   \n",
      "15           15.314863     0.778213   57.637303            138.0   \n",
      "14           15.803229    -0.611932   65.742680            254.0   \n",
      "141           6.926608     0.249339   36.689634            254.0   \n",
      "25           12.324166     0.594388   58.391808            254.0   \n",
      "80           17.355879     0.658576   61.501365            255.0   \n",
      "\n",
      "     max_intensity-1  max_intensity-2  mean_intensity-0  mean_intensity-1  \\\n",
      "199            253.0            253.0         63.689373         63.689373   \n",
      "103            255.0            255.0        175.827201        175.827201   \n",
      "97             255.0            255.0        211.231788        211.231788   \n",
      "211            187.0            187.0         87.852381         87.852381   \n",
      "159            234.0            234.0        148.119639        148.119639   \n",
      "..               ...              ...               ...               ...   \n",
      "15             138.0            138.0         91.155709         91.155709   \n",
      "14             254.0            254.0        208.674963        208.674963   \n",
      "141            254.0            254.0        193.555556        193.555556   \n",
      "25             254.0            254.0        198.843810        198.843810   \n",
      "80             255.0            255.0        218.982379        218.982379   \n",
      "\n",
      "     mean_intensity-2  min_intensity-0  min_intensity-1  min_intensity-2  \\\n",
      "199         63.689373              3.0              3.0              3.0   \n",
      "103        175.827201              7.0              7.0              7.0   \n",
      "97         211.231788             22.0             22.0             22.0   \n",
      "211         87.852381             14.0             14.0             14.0   \n",
      "159        148.119639             21.0             21.0             21.0   \n",
      "..                ...              ...              ...              ...   \n",
      "15          91.155709             12.0             12.0             12.0   \n",
      "14         208.674963             39.0             39.0             39.0   \n",
      "141        193.555556             46.0             46.0             46.0   \n",
      "25         198.843810             37.0             37.0             37.0   \n",
      "80         218.982379             35.0             35.0             35.0   \n",
      "\n",
      "     probability  \n",
      "199     0.002604  \n",
      "103     0.015236  \n",
      "97      0.005358  \n",
      "211     0.002980  \n",
      "159     0.003144  \n",
      "..           ...  \n",
      "15      0.004102  \n",
      "14      0.004847  \n",
      "141     0.001405  \n",
      "25      0.003726  \n",
      "80      0.004833  \n",
      "\n",
      "[100 rows x 19 columns]\n"
     ]
    }
   ],
   "source": [
    "import pandas as pd\n",
    "import numpy as np\n",
    "\n",
    "def select_grains_weighted(data, n):\n",
    "    \"\"\"Selects n grains from a grain size .csv based on their area, weighted by probability, ensuring no duplicates.\n",
    "\n",
    "    Args:\n",
    "        data: Pandas DataFrame containing grain data with columns 'area'.\n",
    "        n: Number of grains to select.\n",
    "\n",
    "    Returns:\n",
    "        Pandas DataFrame containing the selected grains.\n",
    "    \"\"\"\n",
    "\n",
    "    # Calculate probabilities based on area\n",
    "    data['probability'] = data['area'] / data['area'].sum()\n",
    "\n",
    "    # Sample n grains based on probabilities without replacement\n",
    "    selected_grains = data.sample(n, replace=False, weights='probability')\n",
    "\n",
    "    # Ensure no duplicates\n",
    "    selected_grains = selected_grains.drop_duplicates()\n",
    "\n",
    "    return selected_grains\n",
    "\n",
    "# Example usage\n",
    "# Replace 'grain_size.csv' with your actual file path\n",
    "data = pd.read_csv(r\"C:\\Users\\juan_\\Python\\JSG_2024_Hackathon\\1973\\wellsorted_lowerfinegrainsize.csv\")\n",
    "\n",
    "# Select 100 grains based on area-weighted probability\n",
    "selected_grains = select_grains_weighted(data, 100)\n",
    "\n",
    "print(selected_grains)"
   ]
  },
  {
   "cell_type": "code",
   "execution_count": 64,
   "id": "47ab06ff-6155-42e6-af75-fe4b68c58c53",
   "metadata": {},
   "outputs": [],
   "source": [
    "# plot histogram of grain axis lengths\n",
    "plt.figure()\n",
    "plt.hist(selected_grains['major_axis_length'], np.arange(0, 100, 1), alpha=0.5)\n",
    "plt.hist(selected_grains['minor_axis_length'], np.arange(0, 100, 1), alpha=0.5)\n",
    "plt.xlim(0,100)\n",
    "plt.xlabel('axis length (microns)')\n",
    "plt.ylabel('count');"
   ]
  },
  {
   "cell_type": "markdown",
   "id": "07a2ed49-a3c1-482a-8889-a796fb5f38b5",
   "metadata": {},
   "source": [
    "## KDE Generation"
   ]
  },
  {
   "cell_type": "code",
   "execution_count": 65,
   "id": "d4e96629-0a83-4f4a-b96a-88513766900f",
   "metadata": {},
   "outputs": [],
   "source": [
    "import pandas as pd\n",
    "import numpy as np\n",
    "import matplotlib.pyplot as plt\n",
    "from scipy.stats import gaussian_kde\n",
    "\n",
    "# Load your data\n",
    "data = pd.read_csv(r\"C:\\Users\\juan_\\Python\\JSG_2024_Hackathon\\1973\\wellsorted_lowerfinegrainsize.csv\")\n",
    "\n",
    "# Select 100 grains based on area-weighted probability\n",
    "selected_grains = select_grains_weighted(data, 100)\n",
    "\n",
    "# Create KDEs for major and minor axis lengths\n",
    "major_axis_kde = gaussian_kde(selected_grains['major_axis_length'])\n",
    "minor_axis_kde = gaussian_kde(selected_grains['minor_axis_length'])\n",
    "\n",
    "# Generate x-values for the KDE plots\n",
    "x_vals = np.linspace(0, 100, 1000)\n",
    "\n",
    "# Plot KDEs\n",
    "plt.figure()\n",
    "plt.plot(x_vals, major_axis_kde(x_vals), label='Major Axis Length')\n",
    "plt.plot(x_vals, minor_axis_kde(x_vals), label='Minor Axis Length')\n",
    "plt.xlim(0, 100)\n",
    "plt.xlabel('Axis Length (microns)')\n",
    "plt.ylabel('Density')\n",
    "plt.legend()\n",
    "plt.title('KDE of Grain Axis Lengths')\n",
    "plt.show()"
   ]
  },
  {
   "cell_type": "markdown",
   "id": "bfaa93f5-5cd0-44c0-9879-c3de46eb27a5",
   "metadata": {},
   "source": [
    "## Run and plot Montecarlo Simulation"
   ]
  },
  {
   "cell_type": "code",
   "execution_count": 66,
   "id": "132dfcb8-94ca-44cf-a706-473acfd8988b",
   "metadata": {},
   "outputs": [],
   "source": [
    "# Attempt 1\n",
    "\n",
    "from scipy.stats import gaussian_kde\n",
    "\n",
    "# Repeat the selection process 1000 times\n",
    "num_iterations = 1000\n",
    "major_axis_lengths = []\n",
    "minor_axis_lengths = []\n",
    "\n",
    "for _ in range(num_iterations):\n",
    "    selected_grains = select_grains_weighted(data, 30)\n",
    "    major_axis_lengths.extend(selected_grains['major_axis_length'])\n",
    "    minor_axis_lengths.extend(selected_grains['minor_axis_length'])\n",
    "\n",
    "# Calculate KDEs\n",
    "kde_major = gaussian_kde(major_axis_lengths)\n",
    "kde_minor = gaussian_kde(minor_axis_lengths)\n",
    "\n",
    "# Plot KDEs\n",
    "x_vals = np.linspace(0, 100, 1000)\n",
    "plt.figure()\n",
    "plt.plot(x_vals, kde_major(x_vals), label='Major Axis Length')\n",
    "plt.plot(x_vals, kde_minor(x_vals), label='Minor Axis Length')\n",
    "plt.xlim(0, 100)\n",
    "plt.xlabel('Axis Length (microns)')\n",
    "plt.ylabel('Density')\n",
    "plt.legend()\n",
    "plt.title('KDE of Grain Axis Lengths')\n",
    "plt.show()"
   ]
  },
  {
   "cell_type": "code",
   "execution_count": 67,
   "id": "0aabbe3f-f20b-41e4-9d2a-3c82945022a1",
   "metadata": {},
   "outputs": [
    {
     "name": "stderr",
     "output_type": "stream",
     "text": [
      "C:\\Users\\juan_\\AppData\\Local\\Temp\\ipykernel_9652\\322683143.py:23: MatplotlibDeprecationWarning: The get_cmap function was deprecated in Matplotlib 3.7 and will be removed two minor releases later. Use ``matplotlib.colormaps[name]`` or ``matplotlib.colormaps.get_cmap(obj)`` instead.\n",
      "  cmap = get_cmap('tab20')  # Choose a colormap\n"
     ]
    }
   ],
   "source": [
    "# Succesful attempt\n",
    "\n",
    "from scipy.stats import gaussian_kde\n",
    "from matplotlib.cm import get_cmap\n",
    "\n",
    "# Repeat the selection process 100 times\n",
    "num_iterations = 100\n",
    "major_axis_lengths = []\n",
    "minor_axis_lengths = []\n",
    "\n",
    "for _ in range(num_iterations):\n",
    "    selected_grains = select_grains_weighted(data, 100)\n",
    "    major_axis_lengths.append(selected_grains['major_axis_length'])\n",
    "    minor_axis_lengths.append(selected_grains['minor_axis_length'])\n",
    "\n",
    "# Calculate KDEs\n",
    "kde_major = [gaussian_kde(data) for data in major_axis_lengths]\n",
    "kde_minor = [gaussian_kde(data) for data in minor_axis_lengths]\n",
    "\n",
    "# Plot KDEs\n",
    "x_vals = np.linspace(0, 100, 1000)\n",
    "plt.figure()\n",
    "cmap = get_cmap('tab20')  # Choose a colormap\n",
    "\n",
    "for i in range(num_iterations):\n",
    "    plt.plot(x_vals, kde_major[i](x_vals), label=f'Major Axis Length {i+1}', color=cmap(i/num_iterations))\n",
    "    plt.plot(x_vals, kde_minor[i](x_vals), label=f'Minor Axis Length {i+1}', color=cmap(i/num_iterations))\n",
    "\n",
    "plt.xlim(0, 100)\n",
    "plt.xlabel('Axis Length (microns)')\n",
    "plt.ylabel('Density')\n",
    "#plt.legend()\n",
    "plt.title('KDE of Grain Axis Lengths (Monte Carlo Simulations)')\n",
    "plt.show()"
   ]
  },
  {
   "cell_type": "code",
   "execution_count": 68,
   "id": "a721906e-8dfd-4111-aa8e-225ab95137ec",
   "metadata": {},
   "outputs": [],
   "source": [
    "## Better figure"
   ]
  },
  {
   "cell_type": "code",
   "execution_count": 70,
   "id": "0df6a867-9f40-4214-995c-276f3edcf5c3",
   "metadata": {},
   "outputs": [],
   "source": [
    "# Find the median KDE\n",
    "median_major_kde = gaussian_kde(np.concatenate(major_axis_lengths))\n",
    "median_minor_kde = gaussian_kde(np.concatenate(minor_axis_lengths))\n",
    "\n",
    "# Find the minimum and maximum KDE values at each x-value\n",
    "x_vals = np.linspace(0, 100, 1000)\n",
    "major_kde_min = np.min([kde(x_vals) for kde in kde_major], axis=0)\n",
    "major_kde_max = np.max([kde(x_vals) for kde in kde_major], axis=0)\n",
    "minor_kde_min = np.min([kde(x_vals) for kde in kde_minor], axis=0)\n",
    "minor_kde_max = np.max([kde(x_vals) for kde in kde_minor], axis=0)\n",
    "\n",
    "# Plot KDEs with shaded area and median line\n",
    "plt.figure()\n",
    "plt.fill_between(x_vals, major_kde_min, major_kde_max, alpha=0.2, label='Major Axis Length')\n",
    "plt.plot(x_vals, median_major_kde(x_vals), label='Major Axis Length Median')\n",
    "plt.fill_between(x_vals, minor_kde_min, minor_kde_max, alpha=0.2, label='Minor Axis Length')\n",
    "plt.plot(x_vals, median_minor_kde(x_vals), label='Minor Axis Length Median')\n",
    "\n",
    "plt.xlim(0, 100)\n",
    "plt.xlabel('Axis Length (microns)')\n",
    "plt.ylabel('Density')\n",
    "plt.legend()\n",
    "plt.title('KDE of Grain Axis Lengths (Monte Carlo Simulations)')\n",
    "plt.show()"
   ]
  },
  {
   "cell_type": "code",
   "execution_count": 71,
   "id": "64664329-910e-43d3-bd8b-b5822c250386",
   "metadata": {},
   "outputs": [],
   "source": [
    "## Quantify sortedness"
   ]
  },
  {
   "cell_type": "code",
   "execution_count": 72,
   "id": "50188bd5-90b1-4d26-8de9-98d2ec866d6d",
   "metadata": {},
   "outputs": [
    {
     "name": "stdout",
     "output_type": "stream",
     "text": [
      "Sorting coefficient: 0.1197286408574301\n",
      "Kurtosis value: 1.1706541743057377\n",
      "Skewness values: 0.7936248996978569\n"
     ]
    }
   ],
   "source": [
    "import numpy as np\n",
    "from scipy.stats import kurtosis, skew\n",
    "\n",
    "data = pd.read_csv(r\"C:\\Users\\juan_\\Python\\JSG_2024_Hackathon\\1973\\wellsorted_lowerfinegrainsize.csv\")\n",
    "\n",
    "particle_sizes = data['major_axis_length']\n",
    "\n",
    "# Assuming you have a numpy array 'particle_sizes' containing your data\n",
    "sorting_coefficient = (np.std(particle_sizes) / np.median(particle_sizes)) ** 2\n",
    "kurtosis_value = kurtosis(particle_sizes)\n",
    "skewness_value = skew(particle_sizes)\n",
    "\n",
    "print(\"Sorting coefficient:\", sorting_coefficient)\n",
    "print(\"Kurtosis value:\", kurtosis_value)\n",
    "print(\"Skewness values:\", skewness_value)"
   ]
  },
  {
   "cell_type": "code",
   "execution_count": 80,
   "id": "f5de6dc4-dd5f-4e22-858d-f5c8bca7ced1",
   "metadata": {},
   "outputs": [
    {
     "name": "stdout",
     "output_type": "stream",
     "text": [
      "Trask sorting coefficient all grains:         | 1.5260449742347908\n",
      "Sqrt Trask sorting coefficient all grains:    | 1.2353319287684548\n",
      "Trask sorting coefficient point counting:     | 1.3477606418895989\n",
      "Sqrt Trask sorting coefficient point counting:| 1.160930937605506\n"
     ]
    }
   ],
   "source": [
    "def trask_sorting_coefficient(grain_sizes):\n",
    "    \"\"\"Calculates the Trask sorting coefficient for a given array of grain sizes.\n",
    "\n",
    "    Args:\n",
    "        grain_sizes: A numpy array containing grain sizes in millimeters.\n",
    "\n",
    "    Returns:\n",
    "        A tuple containing the two versions of the Trask sorting coefficient.\n",
    "    \"\"\"\n",
    "\n",
    "    p75 = np.percentile(grain_sizes, 75)\n",
    "    p25 = np.percentile(grain_sizes, 25)\n",
    "\n",
    "    version_1 = p75 / p25\n",
    "    version_2 = np.sqrt(version_1)\n",
    "\n",
    "    return version_1, version_2\n",
    "\n",
    "trask_sorting_coefficient(particle_sizes)\n",
    "\n",
    "particle_sizes_all_grains = data['major_axis_length']\n",
    "particle_sizes_grid_grains = (select_grains_weighted(data, 100))['major_axis_length']\n",
    "\n",
    "print(\"Trask sorting coefficient all grains:         |\", trask_sorting_coefficient(particle_sizes_all_grains)[0])\n",
    "print(\"Sqrt Trask sorting coefficient all grains:    |\", trask_sorting_coefficient(particle_sizes_all_grains)[1])\n",
    "\n",
    "print(\"Trask sorting coefficient point counting:     |\", trask_sorting_coefficient(particle_sizes_grid_grains)[0])\n",
    "print(\"Sqrt Trask sorting coefficient point counting:|\", trask_sorting_coefficient(particle_sizes_grid_grains)[1])\n"
   ]
  },
  {
   "cell_type": "markdown",
   "id": "039415c6",
   "metadata": {},
   "source": [
    "## Save mask and grain labels to PNG files"
   ]
  },
  {
   "cell_type": "code",
   "execution_count": 42,
   "id": "c4962ba6",
   "metadata": {},
   "outputs": [
    {
     "data": {
      "text/plain": [
       "False"
      ]
     },
     "execution_count": 42,
     "metadata": {},
     "output_type": "execute_result"
    }
   ],
   "source": [
    "dirname = r'C:\\Users\\juan_\\Python\\JSG_2024_Hackathon\\masks'\n",
    "# write grayscale mask to PNG file\n",
    "cv2.imwrite(dirname + fname.split('/')[-1][:-4] + '_mask.png', mask_all)\n",
    "# Save the image as a PNG file\n",
    "cv2.imwrite(dirname + fname.split('/')[-1][:-4] + '_image.png', cv2.cvtColor(image, cv2.COLOR_BGR2RGB))"
   ]
  },
  {
   "cell_type": "markdown",
   "id": "77db7f2b-7718-4466-a1d8-41aa3d3d0803",
   "metadata": {},
   "source": [
    "## Run segmentation on large image (new!)\n",
    "In this case 'fname' points to an image that is larger than a few megapixels and has thousands of grains.\n",
    "The 'predict_large_image' function breaks the input image into smaller patches and it runs the segmentation process on each patch."
   ]
  },
  {
   "cell_type": "code",
   "execution_count": 24,
   "id": "90eed72b-4cad-409a-b7bf-bbad0e5dfa74",
   "metadata": {
    "scrolled": true
   },
   "outputs": [
    {
     "name": "stdout",
     "output_type": "stream",
     "text": [
      "segmenting image tiles...\n"
     ]
    },
    {
     "name": "stderr",
     "output_type": "stream",
     "text": [
      "100%|████████████████████████████████████████████████████████████████████████████████████| 4/4 [00:02<00:00,  1.69it/s]\n",
      "100%|████████████████████████████████████████████████████████████████████████████████████| 3/3 [00:01<00:00,  1.78it/s]\n"
     ]
    },
    {
     "name": "stdout",
     "output_type": "stream",
     "text": [
      "creating masks using SAM...\n"
     ]
    },
    {
     "name": "stderr",
     "output_type": "stream",
     "text": [
      "100%|████████████████████████████████████████████████████████████████████████████████| 350/350 [00:27<00:00, 12.60it/s]\n"
     ]
    },
    {
     "name": "stdout",
     "output_type": "stream",
     "text": [
      "finding overlapping polygons...\n"
     ]
    },
    {
     "name": "stderr",
     "output_type": "stream",
     "text": [
      "320it [00:00, 596.72it/s]\n"
     ]
    },
    {
     "name": "stdout",
     "output_type": "stream",
     "text": [
      "finding best polygons...\n"
     ]
    },
    {
     "name": "stderr",
     "output_type": "stream",
     "text": [
      "100%|███████████████████████████████████████████████████████████████████████████████| 118/118 [00:00<00:00, 246.86it/s]\n"
     ]
    },
    {
     "name": "stdout",
     "output_type": "stream",
     "text": [
      "creating labeled image...\n",
      "processed patch #1 out of 1 patches\n"
     ]
    },
    {
     "name": "stderr",
     "output_type": "stream",
     "text": [
      "128it [00:00, 2573.88it/s]\n",
      "0it [00:00, ?it/s]\n"
     ]
    }
   ],
   "source": [
    "from PIL import Image\n",
    "Image.MAX_IMAGE_PIXELS = None # needed if working with very large images\n",
    "fname = r\"C:\\Users\\juan_\\Python\\JSG_2024_Hackathon\\1973\\wellsorted_lowerfinegrainsize.PNG\"\n",
    "all_grains = seg.predict_large_image(fname, model, sam, min_area=400.0, patch_size=2000, overlap=200)"
   ]
  },
  {
   "cell_type": "code",
   "execution_count": 25,
   "id": "d1e52b04-e54e-44e6-8061-b8d0c0c76970",
   "metadata": {},
   "outputs": [
    {
     "name": "stderr",
     "output_type": "stream",
     "text": [
      "100%|███████████████████████████████████████████████████████████████████████████████| 128/128 [00:00<00:00, 180.55it/s]\n"
     ]
    }
   ],
   "source": [
    "# plot results\n",
    "image = np.array(load_img(fname))\n",
    "fig, ax = plt.subplots(figsize=(15,10))\n",
    "plt.xticks([])\n",
    "plt.yticks([])\n",
    "seg.plot_image_w_colorful_grains(image, all_grains, ax, cmap='Paired')\n",
    "plt.axis('equal')\n",
    "plt.xlim([0, np.shape(image)[1]])\n",
    "plt.ylim([np.shape(image)[0], 0]);"
   ]
  },
  {
   "cell_type": "code",
   "execution_count": 26,
   "id": "4dae73a8-f9ce-4fb9-8661-19d4c03340f3",
   "metadata": {},
   "outputs": [],
   "source": [
    "# this is a faster way of deleting false positives (because it avoids highlighting and deleting the 'bad' grains)\n",
    "grain_inds = []\n",
    "cid1 = fig.canvas.mpl_connect('button_press_event', lambda event: seg.onclick2(event, all_grains, grain_inds, ax=ax, select_only=True))"
   ]
  },
  {
   "cell_type": "code",
   "execution_count": 27,
   "id": "98b9650b-c6d9-4c23-85cc-b0234f3d2b2b",
   "metadata": {},
   "outputs": [
    {
     "name": "stderr",
     "output_type": "stream",
     "text": [
      "0it [00:00, ?it/s]\n"
     ]
    }
   ],
   "source": [
    "from tqdm import tqdm\n",
    "# delete polygons from 'all_grains'\n",
    "grain_inds = np.unique(grain_inds)\n",
    "grain_inds = sorted(grain_inds, reverse=True)\n",
    "for ind in tqdm(grain_inds):\n",
    "    all_grains.remove(all_grains[ind])"
   ]
  },
  {
   "cell_type": "markdown",
   "id": "74b9e579-8c81-4baf-9262-eb4b1584c646",
   "metadata": {},
   "source": [
    "After plotting the results, you will want to use the functions for deleting, merging, and adding grains (see above), before saving the results (same workflow as for a small image)."
   ]
  },
  {
   "cell_type": "code",
   "execution_count": null,
   "id": "a16c472f-df00-4ac7-862d-4c15ce421f22",
   "metadata": {},
   "outputs": [],
   "source": []
  },
  {
   "cell_type": "code",
   "execution_count": null,
   "id": "e697e197-cb0f-45c6-99ac-51b248e62128",
   "metadata": {},
   "outputs": [],
   "source": []
  }
 ],
 "metadata": {
  "kernelspec": {
   "display_name": "Python 3 (ipykernel)",
   "language": "python",
   "name": "python3"
  },
  "language_info": {
   "codemirror_mode": {
    "name": "ipython",
    "version": 3
   },
   "file_extension": ".py",
   "mimetype": "text/x-python",
   "name": "python",
   "nbconvert_exporter": "python",
   "pygments_lexer": "ipython3",
   "version": "3.8.20"
  }
 },
 "nbformat": 4,
 "nbformat_minor": 5
}
