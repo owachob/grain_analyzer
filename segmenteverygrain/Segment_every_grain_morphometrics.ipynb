{
 "cells": [
  {
   "cell_type": "markdown",
   "id": "95a8f02b",
   "metadata": {},
   "source": [
    "## Import packages"
   ]
  },
  {
   "cell_type": "code",
   "execution_count": 1,
   "id": "f2ebc518",
   "metadata": {},
   "outputs": [],
   "source": [
    "import pandas as pd\n",
    "import numpy as np\n",
    "import matplotlib.pyplot as plt\n",
    "import cv2\n",
    "import math\n",
    "import os\n",
    "from skimage import measure\n",
    "from skimage.measure import regionprops, regionprops_table\n",
    "from tensorflow.keras.optimizers.legacy import Adam\n",
    "from tensorflow.keras.preprocessing.image import load_img\n",
    "from importlib import reload\n",
    "import segmenteverygrain as seg\n",
    "from segment_anything import sam_model_registry, SamAutomaticMaskGenerator, SamPredictor\n",
    "from tqdm import trange\n",
    "%matplotlib qt"
   ]
  },
  {
   "cell_type": "markdown",
   "id": "f474ac20",
   "metadata": {},
   "source": [
    "## Load models"
   ]
  },
  {
   "cell_type": "code",
   "execution_count": 2,
   "id": "fe1bd2bc",
   "metadata": {},
   "outputs": [],
   "source": [
    "model = seg.Unet()\n",
    "model.compile(optimizer=Adam(), loss=seg.weighted_crossentropy, metrics=[\"accuracy\"])\n",
    "model.load_weights('./beard_and_weyl_model/seg_model') # replace this if you have a finetuned Unet model and want to use it\n",
    "\n",
    "# the SAM model checkpoints can be downloaded from: https://dl.fbaipublicfiles.com/segment_anything/sam_vit_h_4b8939.pth\n",
    "sam = sam_model_registry[\"default\"](checkpoint=\"C:/Users/owach/OneDrive/School/Research/grain-segmentations/sam_vit_h_4b8939.pth\")"
   ]
  },
  {
   "cell_type": "markdown",
   "id": "a3c1dfc6",
   "metadata": {},
   "source": [
    "## Run segmentation\n",
    "\n",
    "Grains are supposed to be well defined in the image; e.g., if a grain consists of only a few pixels, it is unlikely to be detected.\n",
    "\n",
    "The segmentation can take a few minutes even for medium-sized images, so do not start with large images (downsample them if necessary). Images with ~2000 pixels along their largest dimension are a good start.\n",
    "\n",
    "If you have a much larger image, see the section **\"Run segmentation on large image\"** at the end of the notebook.\n",
    "\n",
    "Image used below is available from [here](https://github.com/zsylvester/segmenteverygrain/blob/main/torrey_pines_beach.jpeg)."
   ]
  },
  {
   "cell_type": "code",
   "execution_count": 10,
   "id": "94bf3f94",
   "metadata": {},
   "outputs": [
    {
     "name": "stdout",
     "output_type": "stream",
     "text": [
      "segmenting image tiles...\n"
     ]
    },
    {
     "name": "stderr",
     "output_type": "stream",
     "text": [
      "100%|██████████| 5/5 [00:02<00:00,  2.33it/s]\n",
      "100%|██████████| 4/4 [00:00<00:00,  4.88it/s]\n"
     ]
    },
    {
     "name": "stdout",
     "output_type": "stream",
     "text": [
      "[[[255 255 255]\n",
      "  [255 255 255]\n",
      "  [255 255 255]\n",
      "  ...\n",
      "  [255 255 255]\n",
      "  [255 255 255]\n",
      "  [255 255 255]]\n",
      "\n",
      " [[255 255 255]\n",
      "  [255 255 255]\n",
      "  [255 255 255]\n",
      "  ...\n",
      "  [255 255 255]\n",
      "  [255 255 255]\n",
      "  [255 255 255]]\n",
      "\n",
      " [[255 255 255]\n",
      "  [255 255 255]\n",
      "  [255 255 255]\n",
      "  ...\n",
      "  [255 255 255]\n",
      "  [255 255 255]\n",
      "  [255 255 255]]\n",
      "\n",
      " ...\n",
      "\n",
      " [[255 255 255]\n",
      "  [255 255 255]\n",
      "  [255 255 255]\n",
      "  ...\n",
      "  [  0   0   0]\n",
      "  [  0   0   0]\n",
      "  [  0   0   0]]\n",
      "\n",
      " [[255 255 255]\n",
      "  [255 255 255]\n",
      "  [255 255 255]\n",
      "  ...\n",
      "  [  0   0   0]\n",
      "  [  0   0   0]\n",
      "  [  0   0   0]]\n",
      "\n",
      " [[255 255 255]\n",
      "  [255 255 255]\n",
      "  [255 255 255]\n",
      "  ...\n",
      "  [  0   0   0]\n",
      "  [  0   0   0]\n",
      "  [  0   0   0]]]\n"
     ]
    }
   ],
   "source": [
    "import numpy as np\n",
    "from keras.preprocessing.image import load_img\n",
    "\n",
    "# Replace this with the path to your image:\n",
    "fname = 'C:/Users/owach/OneDrive/School/Research/images/circularityimages/.97_inverted.png'\n",
    "\n",
    "big_im = np.array(load_img(fname))\n",
    "big_im_pred = seg.predict_big_image(big_im, model, I=256)\n",
    "print(big_im)\n",
    "\n"
   ]
  },
  {
   "cell_type": "code",
   "execution_count": 11,
   "id": "0df6d87b",
   "metadata": {},
   "outputs": [
    {
     "name": "stdout",
     "output_type": "stream",
     "text": [
      "segmenting image tiles...\n"
     ]
    },
    {
     "name": "stderr",
     "output_type": "stream",
     "text": [
      "100%|██████████| 5/5 [00:01<00:00,  4.70it/s]\n",
      "100%|██████████| 4/4 [00:00<00:00,  4.50it/s]\n"
     ]
    },
    {
     "name": "stdout",
     "output_type": "stream",
     "text": [
      "creating masks using SAM...\n"
     ]
    },
    {
     "name": "stderr",
     "output_type": "stream",
     "text": [
      "100%|██████████| 2/2 [00:00<00:00,  2.49it/s]\n"
     ]
    },
    {
     "name": "stdout",
     "output_type": "stream",
     "text": [
      "finding overlapping polygons...\n"
     ]
    },
    {
     "name": "stderr",
     "output_type": "stream",
     "text": [
      "2it [00:00, 20.66it/s]\n"
     ]
    },
    {
     "name": "stdout",
     "output_type": "stream",
     "text": [
      "finding best polygons...\n"
     ]
    },
    {
     "name": "stderr",
     "output_type": "stream",
     "text": [
      "100%|██████████| 1/1 [00:00<00:00,  6.73it/s]\n"
     ]
    },
    {
     "name": "stdout",
     "output_type": "stream",
     "text": [
      "creating labeled image...\n"
     ]
    },
    {
     "name": "stderr",
     "output_type": "stream",
     "text": [
      "100%|██████████| 1/1 [00:00<00:00, 11.25it/s]\n"
     ]
    }
   ],
   "source": [
    "# # decreasing the 'dbs_max_dist' parameter results in more SAM prompts (and longer processing times):\n",
    "reload(seg)\n",
    "big_im = np.array(load_img(fname))\n",
    "big_im_pred = seg.predict_big_image(big_im, model, I=256)\n",
    "\n",
    "# decreasing the 'dbs_max_dist' parameter results in more SAM prompts (and longer processing times):\n",
    "labels, coords = seg.label_grains(big_im, big_im_pred, dbs_max_dist=20.0) # Unet prediction\n",
    "\n",
    "# SAM segmentation, using the point prompts from the Unet:\n",
    "all_grains, labels, mask_all, grain_data, fig, ax = seg.sam_segmentation(sam, big_im, big_im_pred, \n",
    "                                                coords, labels, min_area=400.0, plot_image=True, remove_edge_grains=False, remove_large_objects=False)"
   ]
  },
  {
   "cell_type": "markdown",
   "id": "7c091d4c",
   "metadata": {},
   "source": [
    "Use this figure to check the distribution of SAM prompts (= black dots):"
   ]
  },
  {
   "cell_type": "code",
   "execution_count": 12,
   "id": "e031a13f",
   "metadata": {},
   "outputs": [],
   "source": [
    "plt.figure(figsize=(15,10))\n",
    "plt.imshow(big_im_pred)\n",
    "plt.scatter(np.array(coords)[:,0], np.array(coords)[:,1], c='k')\n",
    "plt.xticks([])\n",
    "plt.yticks([]);"
   ]
  },
  {
   "cell_type": "markdown",
   "id": "968737c4",
   "metadata": {},
   "source": [
    "## Delete or merge grains in segmentation result\n",
    "* click on the grain that you want to remove and press the 'x' key\n",
    "* click on two grains that you want to merge and press the 'm' key (they have to be the last two grains you clicked on)\n",
    "* press the 'g' key to hide the grain masks (so that you can see the original image better); press the 'g' key again to show the grain masks"
   ]
  },
  {
   "cell_type": "code",
   "execution_count": 14,
   "id": "e1761761",
   "metadata": {},
   "outputs": [
    {
     "name": "stderr",
     "output_type": "stream",
     "text": [
      "Traceback (most recent call last):\n",
      "  File \"c:\\Users\\owach\\anaconda3\\envs\\grain-segmentations\\lib\\site-packages\\matplotlib\\cbook\\__init__.py\", line 304, in process\n",
      "    func(*args, **kwargs)\n",
      "  File \"C:\\Users\\owach\\AppData\\Local\\Temp\\ipykernel_28464\\32070719.py\", line 5, in <lambda>\n",
      "    lambda event: seg.onpress2(event, all_grains, grain_inds, fig=fig, ax=ax))\n",
      "  File \"c:\\Users\\owach\\OneDrive\\School\\Research\\grain_analyzer\\segmenteverygrain\\segmenteverygrain.py\", line 906, in onpress2\n",
      "    ax.patches[grain_inds[-1]].remove()\n",
      "IndexError: list index out of range\n",
      "Traceback (most recent call last):\n",
      "  File \"c:\\Users\\owach\\anaconda3\\envs\\grain-segmentations\\lib\\site-packages\\matplotlib\\cbook\\__init__.py\", line 304, in process\n",
      "    func(*args, **kwargs)\n",
      "  File \"C:\\Users\\owach\\AppData\\Local\\Temp\\ipykernel_28464\\32070719.py\", line 5, in <lambda>\n",
      "    lambda event: seg.onpress2(event, all_grains, grain_inds, fig=fig, ax=ax))\n",
      "  File \"c:\\Users\\owach\\OneDrive\\School\\Research\\grain_analyzer\\segmenteverygrain\\segmenteverygrain.py\", line 906, in onpress2\n",
      "    ax.patches[grain_inds[-1]].remove()\n",
      "IndexError: list index out of range\n",
      "Traceback (most recent call last):\n",
      "  File \"c:\\Users\\owach\\anaconda3\\envs\\grain-segmentations\\lib\\site-packages\\matplotlib\\cbook\\__init__.py\", line 304, in process\n",
      "    func(*args, **kwargs)\n",
      "  File \"C:\\Users\\owach\\AppData\\Local\\Temp\\ipykernel_28464\\32070719.py\", line 5, in <lambda>\n",
      "    lambda event: seg.onpress2(event, all_grains, grain_inds, fig=fig, ax=ax))\n",
      "  File \"c:\\Users\\owach\\OneDrive\\School\\Research\\grain_analyzer\\segmenteverygrain\\segmenteverygrain.py\", line 906, in onpress2\n",
      "    ax.patches[grain_inds[-1]].remove()\n",
      "IndexError: list index out of range\n"
     ]
    }
   ],
   "source": [
    "grain_inds = []\n",
    "cid1 = fig.canvas.mpl_connect('button_press_event', \n",
    "                              lambda event: seg.onclick2(event, all_grains, grain_inds, ax=ax))\n",
    "cid2 = fig.canvas.mpl_connect('key_press_event', \n",
    "                              lambda event: seg.onpress2(event, all_grains, grain_inds, fig=fig, ax=ax))"
   ]
  },
  {
   "cell_type": "markdown",
   "id": "5d08448d",
   "metadata": {},
   "source": [
    "Run this cell if you do not want to delete / merge existing grains anymore; it is a good idea to do this before moving on to the next step."
   ]
  },
  {
   "cell_type": "code",
   "execution_count": 15,
   "id": "8b6987ae",
   "metadata": {},
   "outputs": [],
   "source": [
    "fig.canvas.mpl_disconnect(cid1)\n",
    "fig.canvas.mpl_disconnect(cid2)"
   ]
  },
  {
   "cell_type": "markdown",
   "id": "b1ef7d75",
   "metadata": {},
   "source": [
    "Use this function to update the 'all_grains' list after deleting and merging grains:"
   ]
  },
  {
   "cell_type": "code",
   "execution_count": 92,
   "id": "9f7b8082",
   "metadata": {},
   "outputs": [
    {
     "name": "stderr",
     "output_type": "stream",
     "text": [
      "100%|██████████| 187/187 [00:00<00:00, 4887.03it/s]\n",
      "100%|██████████| 187/187 [00:00<00:00, 237.68it/s]\n"
     ]
    }
   ],
   "source": [
    "all_grains, labels, mask_all, fig, ax = seg.get_grains_from_patches(ax, big_im)"
   ]
  },
  {
   "cell_type": "markdown",
   "id": "36ca344c",
   "metadata": {},
   "source": [
    "Plot the updated set of grains:"
   ]
  },
  {
   "cell_type": "code",
   "execution_count": 93,
   "id": "7e0f7f02",
   "metadata": {},
   "outputs": [
    {
     "name": "stderr",
     "output_type": "stream",
     "text": [
      "100%|██████████| 187/187 [00:00<00:00, 230.90it/s]\n"
     ]
    }
   ],
   "source": [
    "fig, ax = plt.subplots(figsize=(15,10))\n",
    "ax.imshow(big_im)\n",
    "plt.xticks([])\n",
    "plt.yticks([])\n",
    "seg.plot_image_w_colorful_grains(big_im, all_grains, ax, cmap='Paired')\n",
    "# seg.plot_grain_axes_and_centroids(all_grains, labels, ax, linewidth=1, markersize=10)\n",
    "plt.xlim([0, np.shape(big_im)[1]])\n",
    "plt.ylim([np.shape(big_im)[0], 0]);"
   ]
  },
  {
   "cell_type": "markdown",
   "id": "ab7201a5",
   "metadata": {},
   "source": [
    "## Add new grains using the Segment Anything Model\n",
    "\n",
    "* click on unsegmented grain that you want to add\n",
    "* press the 'x' key if you want to delete the last grain you added\n",
    "* press the 'm' key if you want to merge the last two grains that you added\n",
    "* right click outside the grain (but inside the most recent mask) if you want to restrict the grain to a smaller mask - this adds a background prompt"
   ]
  },
  {
   "cell_type": "code",
   "execution_count": 13,
   "id": "04b1a138",
   "metadata": {},
   "outputs": [],
   "source": [
    "predictor = SamPredictor(sam)\n",
    "predictor.set_image(big_im) # this can take a while\n",
    "coords = []\n",
    "cid3 = fig.canvas.mpl_connect('button_press_event', lambda event: seg.onclick(event, ax, coords, big_im, predictor))\n",
    "cid4 = fig.canvas.mpl_connect('key_press_event', lambda event: seg.onpress(event, ax, fig))"
   ]
  },
  {
   "cell_type": "code",
   "execution_count": 16,
   "id": "02386a92",
   "metadata": {},
   "outputs": [],
   "source": [
    "fig.canvas.mpl_disconnect(cid3)\n",
    "fig.canvas.mpl_disconnect(cid4)"
   ]
  },
  {
   "cell_type": "code",
   "execution_count": 17,
   "id": "9479bc5e-ec2b-4c5a-b08c-8fc6a498401e",
   "metadata": {},
   "outputs": [
    {
     "data": {
      "text/plain": [
       "<module 'segmenteverygrain' from 'c:\\\\Users\\\\owach\\\\OneDrive\\\\School\\\\Research\\\\grain_analyzer\\\\segmenteverygrain\\\\segmenteverygrain.py'>"
      ]
     },
     "execution_count": 17,
     "metadata": {},
     "output_type": "execute_result"
    }
   ],
   "source": [
    "reload(seg)"
   ]
  },
  {
   "cell_type": "markdown",
   "id": "6ae4b89a",
   "metadata": {},
   "source": [
    "After you are done with the deletion / addition of grain masks, run this cell to generate an updated set of grains:"
   ]
  },
  {
   "cell_type": "code",
   "execution_count": 18,
   "id": "4355b526",
   "metadata": {},
   "outputs": [
    {
     "name": "stderr",
     "output_type": "stream",
     "text": [
      "100%|██████████| 5/5 [00:00<00:00, 1876.98it/s]\n",
      "100%|██████████| 5/5 [00:00<00:00, 246.46it/s]\n"
     ]
    }
   ],
   "source": [
    "all_grains, labels, mask_all, fig, ax = seg.get_grains_from_patches(ax, big_im)"
   ]
  },
  {
   "cell_type": "markdown",
   "id": "768a05d2",
   "metadata": {},
   "source": [
    "## Get grain size distribution"
   ]
  },
  {
   "cell_type": "markdown",
   "id": "96892a89",
   "metadata": {},
   "source": [
    "Run this cell and then click (left mouse button) on one end of the scale bar in the image and click (right mouse button) on the other end of the scale bar:"
   ]
  },
  {
   "cell_type": "code",
   "execution_count": 19,
   "id": "be85a125",
   "metadata": {},
   "outputs": [],
   "source": [
    "from keras.preprocessing.image import load_img, img_to_array\n",
    "scale = 'C:/Users/owach/Downloads/Inverted_Images_Hackathon/scale.png'\n",
    "# Load the image and convert it to a NumPy array\n",
    "scale_im = img_to_array(load_img(scale))\n",
    "\n",
    "# Create a figure and axis\n",
    "fig, ax = plt.subplots()\n",
    "\n",
    "# Display the image\n",
    "ax.imshow(scale_im.astype(np.uint8))  # Ensure the image data is in the correct type for display\n",
    "ax.axis('off')  # Optional: Hide the axes\n",
    "\n",
    "# Show the plot\n",
    "plt.show()"
   ]
  },
  {
   "cell_type": "code",
   "execution_count": 16,
   "id": "869c6cd4",
   "metadata": {},
   "outputs": [
    {
     "name": "stdout",
     "output_type": "stream",
     "text": [
      "number of pixels: 131.35\n"
     ]
    }
   ],
   "source": [
    "cid5 = fig.canvas.mpl_connect('button_press_event', lambda event: seg.click_for_scale(event, ax))\n"
   ]
  },
  {
   "cell_type": "markdown",
   "id": "658e2f0a",
   "metadata": {},
   "source": [
    "Use the length of the scale bar in pixels (it should be printed above) to get the scale of the image (in units / pixel):"
   ]
  },
  {
   "cell_type": "code",
   "execution_count": 20,
   "id": "7893cfb7",
   "metadata": {},
   "outputs": [],
   "source": [
    "n_of_units = 500\n",
    "units_per_pixel = n_of_units/131.35 # length of scale bar in pixels"
   ]
  },
  {
   "cell_type": "code",
   "execution_count": 14,
   "id": "a18bdd7c",
   "metadata": {},
   "outputs": [],
   "source": [
    "import math"
   ]
  },
  {
   "cell_type": "code",
   "execution_count": 21,
   "id": "ecd10ff0",
   "metadata": {},
   "outputs": [
    {
     "name": "stdout",
     "output_type": "stream",
     "text": [
      "Labels shape: (436, 771)\n",
      "Intensity image shape: (436, 771, 3)\n"
     ]
    }
   ],
   "source": [
    "print(\"Labels shape:\", labels.shape)\n",
    "print(\"Intensity image shape:\", big_im.shape)\n"
   ]
  },
  {
   "cell_type": "code",
   "execution_count": 22,
   "id": "b56c5732",
   "metadata": {},
   "outputs": [],
   "source": [
    "props = regionprops_table(labels.astype('int'), intensity_image = big_im, properties =\\\n",
    "        ('label', 'area', 'centroid', 'major_axis_length', 'minor_axis_length', \n",
    "         'orientation', 'perimeter', 'max_intensity', 'mean_intensity', 'min_intensity'))\n",
    "grain_data = pd.DataFrame(props)\n",
    "grain_data['major_axis_length'] = grain_data['major_axis_length'].values*units_per_pixel\n",
    "grain_data['minor_axis_length'] = grain_data['minor_axis_length'].values*units_per_pixel\n",
    "grain_data['perimeter'] = grain_data['perimeter'].values*units_per_pixel\n",
    "grain_data['area'] = grain_data['area'].values*units_per_pixel**2"
   ]
  },
  {
   "cell_type": "code",
   "execution_count": 23,
   "id": "202f5650",
   "metadata": {},
   "outputs": [
    {
     "data": {
      "text/html": [
       "<div>\n",
       "<style scoped>\n",
       "    .dataframe tbody tr th:only-of-type {\n",
       "        vertical-align: middle;\n",
       "    }\n",
       "\n",
       "    .dataframe tbody tr th {\n",
       "        vertical-align: top;\n",
       "    }\n",
       "\n",
       "    .dataframe thead th {\n",
       "        text-align: right;\n",
       "    }\n",
       "</style>\n",
       "<table border=\"1\" class=\"dataframe\">\n",
       "  <thead>\n",
       "    <tr style=\"text-align: right;\">\n",
       "      <th></th>\n",
       "      <th>label</th>\n",
       "      <th>area</th>\n",
       "      <th>centroid-0</th>\n",
       "      <th>centroid-1</th>\n",
       "      <th>major_axis_length</th>\n",
       "      <th>minor_axis_length</th>\n",
       "      <th>orientation</th>\n",
       "      <th>perimeter</th>\n",
       "      <th>max_intensity-0</th>\n",
       "      <th>max_intensity-1</th>\n",
       "      <th>max_intensity-2</th>\n",
       "      <th>mean_intensity-0</th>\n",
       "      <th>mean_intensity-1</th>\n",
       "      <th>mean_intensity-2</th>\n",
       "      <th>min_intensity-0</th>\n",
       "      <th>min_intensity-1</th>\n",
       "      <th>min_intensity-2</th>\n",
       "    </tr>\n",
       "  </thead>\n",
       "  <tbody>\n",
       "    <tr>\n",
       "      <th>0</th>\n",
       "      <td>1</td>\n",
       "      <td>11577.815746</td>\n",
       "      <td>33.912390</td>\n",
       "      <td>134.440551</td>\n",
       "      <td>125.836198</td>\n",
       "      <td>117.381975</td>\n",
       "      <td>0.589572</td>\n",
       "      <td>394.899564</td>\n",
       "      <td>235.0</td>\n",
       "      <td>235.0</td>\n",
       "      <td>235.0</td>\n",
       "      <td>18.568210</td>\n",
       "      <td>18.568210</td>\n",
       "      <td>18.568210</td>\n",
       "      <td>0.0</td>\n",
       "      <td>0.0</td>\n",
       "      <td>0.0</td>\n",
       "    </tr>\n",
       "    <tr>\n",
       "      <th>1</th>\n",
       "      <td>2</td>\n",
       "      <td>11751.700338</td>\n",
       "      <td>35.125771</td>\n",
       "      <td>176.641184</td>\n",
       "      <td>125.950653</td>\n",
       "      <td>118.982614</td>\n",
       "      <td>-0.025035</td>\n",
       "      <td>398.435659</td>\n",
       "      <td>238.0</td>\n",
       "      <td>238.0</td>\n",
       "      <td>238.0</td>\n",
       "      <td>24.187423</td>\n",
       "      <td>24.187423</td>\n",
       "      <td>24.187423</td>\n",
       "      <td>0.0</td>\n",
       "      <td>0.0</td>\n",
       "      <td>0.0</td>\n",
       "    </tr>\n",
       "    <tr>\n",
       "      <th>2</th>\n",
       "      <td>3</td>\n",
       "      <td>11911.094547</td>\n",
       "      <td>35.231144</td>\n",
       "      <td>217.890511</td>\n",
       "      <td>129.474833</td>\n",
       "      <td>117.497276</td>\n",
       "      <td>0.214450</td>\n",
       "      <td>402.895396</td>\n",
       "      <td>250.0</td>\n",
       "      <td>250.0</td>\n",
       "      <td>250.0</td>\n",
       "      <td>24.212895</td>\n",
       "      <td>24.212895</td>\n",
       "      <td>24.212895</td>\n",
       "      <td>0.0</td>\n",
       "      <td>0.0</td>\n",
       "      <td>0.0</td>\n",
       "    </tr>\n",
       "    <tr>\n",
       "      <th>3</th>\n",
       "      <td>4</td>\n",
       "      <td>9186.902607</td>\n",
       "      <td>35.634069</td>\n",
       "      <td>256.623028</td>\n",
       "      <td>111.638743</td>\n",
       "      <td>105.395940</td>\n",
       "      <td>0.785371</td>\n",
       "      <td>360.369424</td>\n",
       "      <td>246.0</td>\n",
       "      <td>246.0</td>\n",
       "      <td>246.0</td>\n",
       "      <td>25.891167</td>\n",
       "      <td>25.891167</td>\n",
       "      <td>25.891167</td>\n",
       "      <td>0.0</td>\n",
       "      <td>0.0</td>\n",
       "      <td>0.0</td>\n",
       "    </tr>\n",
       "    <tr>\n",
       "      <th>4</th>\n",
       "      <td>5</td>\n",
       "      <td>7679.902810</td>\n",
       "      <td>34.528302</td>\n",
       "      <td>98.433962</td>\n",
       "      <td>104.592782</td>\n",
       "      <td>93.550189</td>\n",
       "      <td>-0.189758</td>\n",
       "      <td>320.455905</td>\n",
       "      <td>250.0</td>\n",
       "      <td>250.0</td>\n",
       "      <td>250.0</td>\n",
       "      <td>56.867925</td>\n",
       "      <td>56.867925</td>\n",
       "      <td>56.867925</td>\n",
       "      <td>1.0</td>\n",
       "      <td>1.0</td>\n",
       "      <td>1.0</td>\n",
       "    </tr>\n",
       "  </tbody>\n",
       "</table>\n",
       "</div>"
      ],
      "text/plain": [
       "   label          area  centroid-0  centroid-1  major_axis_length  \\\n",
       "0      1  11577.815746   33.912390  134.440551         125.836198   \n",
       "1      2  11751.700338   35.125771  176.641184         125.950653   \n",
       "2      3  11911.094547   35.231144  217.890511         129.474833   \n",
       "3      4   9186.902607   35.634069  256.623028         111.638743   \n",
       "4      5   7679.902810   34.528302   98.433962         104.592782   \n",
       "\n",
       "   minor_axis_length  orientation   perimeter  max_intensity-0  \\\n",
       "0         117.381975     0.589572  394.899564            235.0   \n",
       "1         118.982614    -0.025035  398.435659            238.0   \n",
       "2         117.497276     0.214450  402.895396            250.0   \n",
       "3         105.395940     0.785371  360.369424            246.0   \n",
       "4          93.550189    -0.189758  320.455905            250.0   \n",
       "\n",
       "   max_intensity-1  max_intensity-2  mean_intensity-0  mean_intensity-1  \\\n",
       "0            235.0            235.0         18.568210         18.568210   \n",
       "1            238.0            238.0         24.187423         24.187423   \n",
       "2            250.0            250.0         24.212895         24.212895   \n",
       "3            246.0            246.0         25.891167         25.891167   \n",
       "4            250.0            250.0         56.867925         56.867925   \n",
       "\n",
       "   mean_intensity-2  min_intensity-0  min_intensity-1  min_intensity-2  \n",
       "0         18.568210              0.0              0.0              0.0  \n",
       "1         24.187423              0.0              0.0              0.0  \n",
       "2         24.212895              0.0              0.0              0.0  \n",
       "3         25.891167              0.0              0.0              0.0  \n",
       "4         56.867925              1.0              1.0              1.0  "
      ]
     },
     "execution_count": 23,
     "metadata": {},
     "output_type": "execute_result"
    }
   ],
   "source": [
    "grain_data.head(10)"
   ]
  },
  {
   "cell_type": "code",
   "execution_count": 24,
   "id": "d9de6cf0",
   "metadata": {},
   "outputs": [],
   "source": [
    "# Assuming grain_data is a DataFrame and units_per_pixel is defined:\n",
    "import numpy as np\n",
    "\n",
    "# Calculate roundness\n",
    "grain_data['roundness'] = (4 * (grain_data['area'].values * units_per_pixel**2)) / (np.pi * (grain_data['major_axis_length'].values * units_per_pixel)**2)\n",
    "\n",
    "# Calculate circularity\n",
    "grain_data['circularity'] = (4 * np.pi * (grain_data['area'].values * units_per_pixel**2)) / ((grain_data['perimeter'].values * units_per_pixel)**2)\n",
    "\n"
   ]
  },
  {
   "cell_type": "code",
   "execution_count": 25,
   "id": "e119cd42",
   "metadata": {},
   "outputs": [],
   "source": [
    "grain_data = grain_data[np.isfinite(grain_data['roundness']) & np.isfinite(grain_data['circularity'])]"
   ]
  },
  {
   "cell_type": "code",
   "execution_count": 26,
   "id": "54e1339a",
   "metadata": {},
   "outputs": [
    {
     "data": {
      "text/plain": [
       "(5, 19)"
      ]
     },
     "execution_count": 26,
     "metadata": {},
     "output_type": "execute_result"
    }
   ],
   "source": [
    "grain_data.shape"
   ]
  },
  {
   "cell_type": "code",
   "execution_count": 27,
   "id": "6cc724de",
   "metadata": {},
   "outputs": [
    {
     "data": {
      "text/html": [
       "<div>\n",
       "<style scoped>\n",
       "    .dataframe tbody tr th:only-of-type {\n",
       "        vertical-align: middle;\n",
       "    }\n",
       "\n",
       "    .dataframe tbody tr th {\n",
       "        vertical-align: top;\n",
       "    }\n",
       "\n",
       "    .dataframe thead th {\n",
       "        text-align: right;\n",
       "    }\n",
       "</style>\n",
       "<table border=\"1\" class=\"dataframe\">\n",
       "  <thead>\n",
       "    <tr style=\"text-align: right;\">\n",
       "      <th></th>\n",
       "      <th>label</th>\n",
       "      <th>area</th>\n",
       "      <th>centroid-0</th>\n",
       "      <th>centroid-1</th>\n",
       "      <th>major_axis_length</th>\n",
       "      <th>minor_axis_length</th>\n",
       "      <th>orientation</th>\n",
       "      <th>perimeter</th>\n",
       "      <th>max_intensity-0</th>\n",
       "      <th>max_intensity-1</th>\n",
       "      <th>max_intensity-2</th>\n",
       "      <th>mean_intensity-0</th>\n",
       "      <th>mean_intensity-1</th>\n",
       "      <th>mean_intensity-2</th>\n",
       "      <th>min_intensity-0</th>\n",
       "      <th>min_intensity-1</th>\n",
       "      <th>min_intensity-2</th>\n",
       "      <th>roundness</th>\n",
       "      <th>circularity</th>\n",
       "    </tr>\n",
       "  </thead>\n",
       "  <tbody>\n",
       "    <tr>\n",
       "      <th>0</th>\n",
       "      <td>1</td>\n",
       "      <td>11577.815746</td>\n",
       "      <td>33.912390</td>\n",
       "      <td>134.440551</td>\n",
       "      <td>125.836198</td>\n",
       "      <td>117.381975</td>\n",
       "      <td>0.589572</td>\n",
       "      <td>394.899564</td>\n",
       "      <td>235.0</td>\n",
       "      <td>235.0</td>\n",
       "      <td>235.0</td>\n",
       "      <td>18.568210</td>\n",
       "      <td>18.568210</td>\n",
       "      <td>18.568210</td>\n",
       "      <td>0.0</td>\n",
       "      <td>0.0</td>\n",
       "      <td>0.0</td>\n",
       "      <td>0.930948</td>\n",
       "      <td>0.932960</td>\n",
       "    </tr>\n",
       "    <tr>\n",
       "      <th>1</th>\n",
       "      <td>2</td>\n",
       "      <td>11751.700338</td>\n",
       "      <td>35.125771</td>\n",
       "      <td>176.641184</td>\n",
       "      <td>125.950653</td>\n",
       "      <td>118.982614</td>\n",
       "      <td>-0.025035</td>\n",
       "      <td>398.435659</td>\n",
       "      <td>238.0</td>\n",
       "      <td>238.0</td>\n",
       "      <td>238.0</td>\n",
       "      <td>24.187423</td>\n",
       "      <td>24.187423</td>\n",
       "      <td>24.187423</td>\n",
       "      <td>0.0</td>\n",
       "      <td>0.0</td>\n",
       "      <td>0.0</td>\n",
       "      <td>0.943213</td>\n",
       "      <td>0.930238</td>\n",
       "    </tr>\n",
       "    <tr>\n",
       "      <th>2</th>\n",
       "      <td>3</td>\n",
       "      <td>11911.094547</td>\n",
       "      <td>35.231144</td>\n",
       "      <td>217.890511</td>\n",
       "      <td>129.474833</td>\n",
       "      <td>117.497276</td>\n",
       "      <td>0.214450</td>\n",
       "      <td>402.895396</td>\n",
       "      <td>250.0</td>\n",
       "      <td>250.0</td>\n",
       "      <td>250.0</td>\n",
       "      <td>24.212895</td>\n",
       "      <td>24.212895</td>\n",
       "      <td>24.212895</td>\n",
       "      <td>0.0</td>\n",
       "      <td>0.0</td>\n",
       "      <td>0.0</td>\n",
       "      <td>0.904672</td>\n",
       "      <td>0.922098</td>\n",
       "    </tr>\n",
       "    <tr>\n",
       "      <th>3</th>\n",
       "      <td>4</td>\n",
       "      <td>9186.902607</td>\n",
       "      <td>35.634069</td>\n",
       "      <td>256.623028</td>\n",
       "      <td>111.638743</td>\n",
       "      <td>105.395940</td>\n",
       "      <td>0.785371</td>\n",
       "      <td>360.369424</td>\n",
       "      <td>246.0</td>\n",
       "      <td>246.0</td>\n",
       "      <td>246.0</td>\n",
       "      <td>25.891167</td>\n",
       "      <td>25.891167</td>\n",
       "      <td>25.891167</td>\n",
       "      <td>0.0</td>\n",
       "      <td>0.0</td>\n",
       "      <td>0.0</td>\n",
       "      <td>0.938533</td>\n",
       "      <td>0.888962</td>\n",
       "    </tr>\n",
       "    <tr>\n",
       "      <th>4</th>\n",
       "      <td>5</td>\n",
       "      <td>7679.902810</td>\n",
       "      <td>34.528302</td>\n",
       "      <td>98.433962</td>\n",
       "      <td>104.592782</td>\n",
       "      <td>93.550189</td>\n",
       "      <td>-0.189758</td>\n",
       "      <td>320.455905</td>\n",
       "      <td>250.0</td>\n",
       "      <td>250.0</td>\n",
       "      <td>250.0</td>\n",
       "      <td>56.867925</td>\n",
       "      <td>56.867925</td>\n",
       "      <td>56.867925</td>\n",
       "      <td>1.0</td>\n",
       "      <td>1.0</td>\n",
       "      <td>1.0</td>\n",
       "      <td>0.893845</td>\n",
       "      <td>0.939786</td>\n",
       "    </tr>\n",
       "  </tbody>\n",
       "</table>\n",
       "</div>"
      ],
      "text/plain": [
       "   label          area  centroid-0  centroid-1  major_axis_length  \\\n",
       "0      1  11577.815746   33.912390  134.440551         125.836198   \n",
       "1      2  11751.700338   35.125771  176.641184         125.950653   \n",
       "2      3  11911.094547   35.231144  217.890511         129.474833   \n",
       "3      4   9186.902607   35.634069  256.623028         111.638743   \n",
       "4      5   7679.902810   34.528302   98.433962         104.592782   \n",
       "\n",
       "   minor_axis_length  orientation   perimeter  max_intensity-0  \\\n",
       "0         117.381975     0.589572  394.899564            235.0   \n",
       "1         118.982614    -0.025035  398.435659            238.0   \n",
       "2         117.497276     0.214450  402.895396            250.0   \n",
       "3         105.395940     0.785371  360.369424            246.0   \n",
       "4          93.550189    -0.189758  320.455905            250.0   \n",
       "\n",
       "   max_intensity-1  max_intensity-2  mean_intensity-0  mean_intensity-1  \\\n",
       "0            235.0            235.0         18.568210         18.568210   \n",
       "1            238.0            238.0         24.187423         24.187423   \n",
       "2            250.0            250.0         24.212895         24.212895   \n",
       "3            246.0            246.0         25.891167         25.891167   \n",
       "4            250.0            250.0         56.867925         56.867925   \n",
       "\n",
       "   mean_intensity-2  min_intensity-0  min_intensity-1  min_intensity-2  \\\n",
       "0         18.568210              0.0              0.0              0.0   \n",
       "1         24.187423              0.0              0.0              0.0   \n",
       "2         24.212895              0.0              0.0              0.0   \n",
       "3         25.891167              0.0              0.0              0.0   \n",
       "4         56.867925              1.0              1.0              1.0   \n",
       "\n",
       "   roundness  circularity  \n",
       "0   0.930948     0.932960  \n",
       "1   0.943213     0.930238  \n",
       "2   0.904672     0.922098  \n",
       "3   0.938533     0.888962  \n",
       "4   0.893845     0.939786  "
      ]
     },
     "execution_count": 27,
     "metadata": {},
     "output_type": "execute_result"
    }
   ],
   "source": [
    "grain_data.head(8)"
   ]
  },
  {
   "cell_type": "code",
   "execution_count": 28,
   "id": "999e7155",
   "metadata": {},
   "outputs": [
    {
     "name": "stdout",
     "output_type": "stream",
     "text": [
      ".97_inverted\n"
     ]
    }
   ],
   "source": [
    "import os\n",
    "output_path = 'C:/Users/owach/OneDrive/School/Research/grain_analyzer/Outputted_Dataframes/'\n",
    "file_name_without_extension = os.path.splitext(os.path.basename(fname))[0]\n",
    "\n",
    "print(file_name_without_extension)  # Output: image"
   ]
  },
  {
   "cell_type": "code",
   "execution_count": 23,
   "id": "5a701881-07fa-4662-aafa-d432661fafff",
   "metadata": {},
   "outputs": [],
   "source": [
    "#grain_data.to_csv('./Outputted_Dataframes' + fname[:-4]+'.csv') # save grain data to CSV file\n",
    "grain_data.to_csv(output_path + file_name_without_extension+ '1.csv')"
   ]
  },
  {
   "cell_type": "code",
   "execution_count": 24,
   "id": "a8663eef",
   "metadata": {},
   "outputs": [],
   "source": [
    "# plot histogram of grain axis lengths\n",
    "plt.figure()\n",
    "plt.hist(grain_data['major_axis_length'], np.arange(0, 100, 1), alpha=0.5)\n",
    "plt.hist(grain_data['minor_axis_length'], np.arange(0, 100, 1), alpha=0.5)\n",
    "plt.xlim(0,100)\n",
    "plt.xlabel('axis length (microns)')\n",
    "plt.ylabel('count');"
   ]
  },
  {
   "cell_type": "code",
   "execution_count": 26,
   "id": "6032c6b8",
   "metadata": {},
   "outputs": [],
   "source": [
    "import numpy as np\n",
    "import matplotlib.pyplot as plt\n",
    "\n",
    "# Sample data: replace this with your actual roundness values\n",
    "roundness_values = grain_data['roundness'].values \n",
    "\n",
    "# Define the bins for the histogram\n",
    "bins = [0, 0.15, 0.2, 0.3, 0.4, 0.6, 1]  #defined by Beard and Weyl (1973)\n",
    "labels = ['Very Angular', 'Angular', 'Sub-Angular', 'Sub-Rounded', 'Rounded', 'Well Rounded']\n",
    "\n",
    "# Count frequencies in each bin\n",
    "hist, bin_edges = np.histogram(roundness_values, bins=bins)\n",
    "\n",
    "# Create the histogram plot\n",
    "plt.figure(figsize=(10, 6))\n",
    "plt.bar(labels, hist, width=0.6, color='skyblue', edgecolor='black')\n",
    "plt.xlabel('Grain Roundness Categories')\n",
    "plt.ylabel('Frequency')\n",
    "plt.title('Histogram of Grain Roundness')\n",
    "plt.xticks(rotation=15)\n",
    "plt.grid(axis='y')\n",
    "plt.savefig('C:/Users/owach/OneDrive/School/Research/grain_analyzer/Outputted_Images/' + file_name_without_extension + 'roundness_histogram.png', dpi=300, bbox_inches='tight')\n",
    "# Show the plot\n",
    "plt.show()\n"
   ]
  },
  {
   "cell_type": "code",
   "execution_count": 31,
   "id": "6d18eaf0",
   "metadata": {},
   "outputs": [
    {
     "ename": "KeyError",
     "evalue": "'sphericity'",
     "output_type": "error",
     "traceback": [
      "\u001b[1;31m---------------------------------------------------------------------------\u001b[0m",
      "\u001b[1;31mKeyError\u001b[0m                                  Traceback (most recent call last)",
      "File \u001b[1;32mc:\\Users\\owach\\anaconda3\\envs\\grain-segmentations\\lib\\site-packages\\pandas\\core\\indexes\\base.py:3653\u001b[0m, in \u001b[0;36mIndex.get_loc\u001b[1;34m(self, key)\u001b[0m\n\u001b[0;32m   3652\u001b[0m \u001b[38;5;28;01mtry\u001b[39;00m:\n\u001b[1;32m-> 3653\u001b[0m     \u001b[38;5;28;01mreturn\u001b[39;00m \u001b[38;5;28;43mself\u001b[39;49m\u001b[38;5;241;43m.\u001b[39;49m\u001b[43m_engine\u001b[49m\u001b[38;5;241;43m.\u001b[39;49m\u001b[43mget_loc\u001b[49m\u001b[43m(\u001b[49m\u001b[43mcasted_key\u001b[49m\u001b[43m)\u001b[49m\n\u001b[0;32m   3654\u001b[0m \u001b[38;5;28;01mexcept\u001b[39;00m \u001b[38;5;167;01mKeyError\u001b[39;00m \u001b[38;5;28;01mas\u001b[39;00m err:\n",
      "File \u001b[1;32mc:\\Users\\owach\\anaconda3\\envs\\grain-segmentations\\lib\\site-packages\\pandas\\_libs\\index.pyx:147\u001b[0m, in \u001b[0;36mpandas._libs.index.IndexEngine.get_loc\u001b[1;34m()\u001b[0m\n",
      "File \u001b[1;32mc:\\Users\\owach\\anaconda3\\envs\\grain-segmentations\\lib\\site-packages\\pandas\\_libs\\index.pyx:176\u001b[0m, in \u001b[0;36mpandas._libs.index.IndexEngine.get_loc\u001b[1;34m()\u001b[0m\n",
      "File \u001b[1;32mpandas\\_libs\\hashtable_class_helper.pxi:7080\u001b[0m, in \u001b[0;36mpandas._libs.hashtable.PyObjectHashTable.get_item\u001b[1;34m()\u001b[0m\n",
      "File \u001b[1;32mpandas\\_libs\\hashtable_class_helper.pxi:7088\u001b[0m, in \u001b[0;36mpandas._libs.hashtable.PyObjectHashTable.get_item\u001b[1;34m()\u001b[0m\n",
      "\u001b[1;31mKeyError\u001b[0m: 'sphericity'",
      "\nThe above exception was the direct cause of the following exception:\n",
      "\u001b[1;31mKeyError\u001b[0m                                  Traceback (most recent call last)",
      "Cell \u001b[1;32mIn[31], line 1\u001b[0m\n\u001b[1;32m----> 1\u001b[0m sphericity_stats \u001b[38;5;241m=\u001b[39m \u001b[43mgrain_data\u001b[49m\u001b[43m[\u001b[49m\u001b[38;5;124;43m'\u001b[39;49m\u001b[38;5;124;43msphericity\u001b[39;49m\u001b[38;5;124;43m'\u001b[39;49m\u001b[43m]\u001b[49m\u001b[38;5;241m.\u001b[39mdescribe()\n\u001b[0;32m      3\u001b[0m \u001b[38;5;66;03m# If you want additional statistics like variance and skewness\u001b[39;00m\n\u001b[0;32m      4\u001b[0m variance \u001b[38;5;241m=\u001b[39m grain_data[\u001b[38;5;124m'\u001b[39m\u001b[38;5;124msphericity\u001b[39m\u001b[38;5;124m'\u001b[39m]\u001b[38;5;241m.\u001b[39mvar()\n",
      "File \u001b[1;32mc:\\Users\\owach\\anaconda3\\envs\\grain-segmentations\\lib\\site-packages\\pandas\\core\\frame.py:3761\u001b[0m, in \u001b[0;36mDataFrame.__getitem__\u001b[1;34m(self, key)\u001b[0m\n\u001b[0;32m   3759\u001b[0m \u001b[38;5;28;01mif\u001b[39;00m \u001b[38;5;28mself\u001b[39m\u001b[38;5;241m.\u001b[39mcolumns\u001b[38;5;241m.\u001b[39mnlevels \u001b[38;5;241m>\u001b[39m \u001b[38;5;241m1\u001b[39m:\n\u001b[0;32m   3760\u001b[0m     \u001b[38;5;28;01mreturn\u001b[39;00m \u001b[38;5;28mself\u001b[39m\u001b[38;5;241m.\u001b[39m_getitem_multilevel(key)\n\u001b[1;32m-> 3761\u001b[0m indexer \u001b[38;5;241m=\u001b[39m \u001b[38;5;28;43mself\u001b[39;49m\u001b[38;5;241;43m.\u001b[39;49m\u001b[43mcolumns\u001b[49m\u001b[38;5;241;43m.\u001b[39;49m\u001b[43mget_loc\u001b[49m\u001b[43m(\u001b[49m\u001b[43mkey\u001b[49m\u001b[43m)\u001b[49m\n\u001b[0;32m   3762\u001b[0m \u001b[38;5;28;01mif\u001b[39;00m is_integer(indexer):\n\u001b[0;32m   3763\u001b[0m     indexer \u001b[38;5;241m=\u001b[39m [indexer]\n",
      "File \u001b[1;32mc:\\Users\\owach\\anaconda3\\envs\\grain-segmentations\\lib\\site-packages\\pandas\\core\\indexes\\base.py:3655\u001b[0m, in \u001b[0;36mIndex.get_loc\u001b[1;34m(self, key)\u001b[0m\n\u001b[0;32m   3653\u001b[0m     \u001b[38;5;28;01mreturn\u001b[39;00m \u001b[38;5;28mself\u001b[39m\u001b[38;5;241m.\u001b[39m_engine\u001b[38;5;241m.\u001b[39mget_loc(casted_key)\n\u001b[0;32m   3654\u001b[0m \u001b[38;5;28;01mexcept\u001b[39;00m \u001b[38;5;167;01mKeyError\u001b[39;00m \u001b[38;5;28;01mas\u001b[39;00m err:\n\u001b[1;32m-> 3655\u001b[0m     \u001b[38;5;28;01mraise\u001b[39;00m \u001b[38;5;167;01mKeyError\u001b[39;00m(key) \u001b[38;5;28;01mfrom\u001b[39;00m \u001b[38;5;21;01merr\u001b[39;00m\n\u001b[0;32m   3656\u001b[0m \u001b[38;5;28;01mexcept\u001b[39;00m \u001b[38;5;167;01mTypeError\u001b[39;00m:\n\u001b[0;32m   3657\u001b[0m     \u001b[38;5;66;03m# If we have a listlike key, _check_indexing_error will raise\u001b[39;00m\n\u001b[0;32m   3658\u001b[0m     \u001b[38;5;66;03m#  InvalidIndexError. Otherwise we fall through and re-raise\u001b[39;00m\n\u001b[0;32m   3659\u001b[0m     \u001b[38;5;66;03m#  the TypeError.\u001b[39;00m\n\u001b[0;32m   3660\u001b[0m     \u001b[38;5;28mself\u001b[39m\u001b[38;5;241m.\u001b[39m_check_indexing_error(key)\n",
      "\u001b[1;31mKeyError\u001b[0m: 'sphericity'"
     ]
    }
   ],
   "source": [
    "circularity_stats = grain_data['circularity'].describe()\n",
    "\n",
    "# If you want additional statistics like variance and skewness\n",
    "variance = grain_data['circularity'].var()\n",
    "skewness = grain_data['circularity'].skew()\n",
    "\n",
    "# Print statistics\n",
    "print(\"Basic Statistics for circularity Values:\")\n",
    "print(circularity_stats)\n",
    "print(f\"\\nVariance: {variance}\")\n",
    "print(f\"Skewness: {skewness}\")\n"
   ]
  },
  {
   "cell_type": "markdown",
   "id": "039415c6",
   "metadata": {},
   "source": [
    "## Save mask and grain labels to PNG files"
   ]
  },
  {
   "cell_type": "code",
   "execution_count": 50,
   "id": "c4962ba6",
   "metadata": {},
   "outputs": [
    {
     "data": {
      "text/plain": [
       "True"
      ]
     },
     "execution_count": 50,
     "metadata": {},
     "output_type": "execute_result"
    }
   ],
   "source": [
    "dirname = 'C:/Users/owach/OneDrive/School/Research/grain-segmentations/images/'\n",
    "# write grayscale mask to PNG file\n",
    "cv2.imwrite(dirname + fname.split('/')[-1][:-4] + '_mask.png', mask_all)\n",
    "# Save the image as a PNG file\n",
    "cv2.imwrite(dirname + fname.split('/')[-1][:-4] + '_image.png', cv2.cvtColor(big_im, cv2.COLOR_BGR2RGB))"
   ]
  },
  {
   "cell_type": "markdown",
   "id": "77db7f2b-7718-4466-a1d8-41aa3d3d0803",
   "metadata": {},
   "source": [
    "## Run segmentation on large image (new!)\n",
    "In this case 'fname' points to an image that is larger than a few megapixels and has thousands of grains.\n",
    "The 'predict_large_image' function breaks the input image into smaller patches and it runs the segmentation process on each patch."
   ]
  },
  {
   "cell_type": "code",
   "execution_count": 33,
   "id": "90eed72b-4cad-409a-b7bf-bbad0e5dfa74",
   "metadata": {
    "scrolled": true
   },
   "outputs": [
    {
     "name": "stdout",
     "output_type": "stream",
     "text": [
      "segmenting image tiles...\n"
     ]
    },
    {
     "name": "stderr",
     "output_type": "stream",
     "text": [
      "100%|██████████████████████████████████████████████████████████████████████████████████| 9/9 [00:06<00:00,  1.30it/s]\n",
      "100%|██████████████████████████████████████████████████████████████████████████████████| 8/8 [00:06<00:00,  1.30it/s]\n"
     ]
    },
    {
     "name": "stdout",
     "output_type": "stream",
     "text": [
      "creating masks using SAM...\n"
     ]
    },
    {
     "name": "stderr",
     "output_type": "stream",
     "text": [
      "100%|████████████████████████████████████████████████████████████████████████████| 3197/3197 [03:25<00:00, 15.54it/s]\n"
     ]
    },
    {
     "name": "stdout",
     "output_type": "stream",
     "text": [
      "finding overlapping polygons...\n"
     ]
    },
    {
     "name": "stderr",
     "output_type": "stream",
     "text": [
      "2894it [00:05, 488.74it/s]\n"
     ]
    },
    {
     "name": "stdout",
     "output_type": "stream",
     "text": [
      "finding best polygons...\n"
     ]
    },
    {
     "name": "stderr",
     "output_type": "stream",
     "text": [
      "100%|█████████████████████████████████████████████████████████████████████████████| 971/971 [00:05<00:00, 192.26it/s]\n"
     ]
    },
    {
     "name": "stdout",
     "output_type": "stream",
     "text": [
      "creating labeled image...\n",
      "segmenting image tiles...\n"
     ]
    },
    {
     "name": "stderr",
     "output_type": "stream",
     "text": [
      "100%|██████████████████████████████████████████████████████████████████████████████████| 9/9 [00:07<00:00,  1.20it/s]\n",
      "100%|██████████████████████████████████████████████████████████████████████████████████| 8/8 [00:06<00:00,  1.23it/s]\n"
     ]
    },
    {
     "name": "stdout",
     "output_type": "stream",
     "text": [
      "creating masks using SAM...\n"
     ]
    },
    {
     "name": "stderr",
     "output_type": "stream",
     "text": [
      "100%|████████████████████████████████████████████████████████████████████████████| 2575/2575 [02:53<00:00, 14.85it/s]\n"
     ]
    },
    {
     "name": "stdout",
     "output_type": "stream",
     "text": [
      "finding overlapping polygons...\n"
     ]
    },
    {
     "name": "stderr",
     "output_type": "stream",
     "text": [
      "2308it [00:08, 273.48it/s]\n"
     ]
    },
    {
     "name": "stdout",
     "output_type": "stream",
     "text": [
      "finding best polygons...\n"
     ]
    },
    {
     "name": "stderr",
     "output_type": "stream",
     "text": [
      "100%|██████████████████████████████████████████████████████████████████████████████| 675/675 [00:07<00:00, 85.80it/s]\n"
     ]
    },
    {
     "name": "stdout",
     "output_type": "stream",
     "text": [
      "creating labeled image...\n",
      "segmenting image tiles...\n"
     ]
    },
    {
     "name": "stderr",
     "output_type": "stream",
     "text": [
      "100%|██████████████████████████████████████████████████████████████████████████████████| 9/9 [00:07<00:00,  1.18it/s]\n",
      "100%|██████████████████████████████████████████████████████████████████████████████████| 8/8 [00:06<00:00,  1.20it/s]\n"
     ]
    },
    {
     "name": "stdout",
     "output_type": "stream",
     "text": [
      "creating masks using SAM...\n"
     ]
    },
    {
     "name": "stderr",
     "output_type": "stream",
     "text": [
      " 53%|████████████████████████████████████████▏                                   | 1130/2140 [01:07<01:08, 14.66it/s]/Users/zoltan/mambaforge/envs/segmenteverygrain/lib/python3.8/site-packages/numpy/core/fromnumeric.py:3464: RuntimeWarning: Mean of empty slice.\n",
      "  return _methods._mean(a, axis=axis, dtype=dtype,\n",
      "/Users/zoltan/mambaforge/envs/segmenteverygrain/lib/python3.8/site-packages/numpy/core/_methods.py:192: RuntimeWarning: invalid value encountered in scalar divide\n",
      "  ret = ret.dtype.type(ret / rcount)\n",
      " 63%|███████████████████████████████████████████████▊                            | 1348/2140 [01:20<00:45, 17.33it/s]/Users/zoltan/mambaforge/envs/segmenteverygrain/lib/python3.8/site-packages/numpy/core/fromnumeric.py:3464: RuntimeWarning: Mean of empty slice.\n",
      "  return _methods._mean(a, axis=axis, dtype=dtype,\n",
      "/Users/zoltan/mambaforge/envs/segmenteverygrain/lib/python3.8/site-packages/numpy/core/_methods.py:192: RuntimeWarning: invalid value encountered in scalar divide\n",
      "  ret = ret.dtype.type(ret / rcount)\n",
      "100%|████████████████████████████████████████████████████████████████████████████| 2140/2140 [02:07<00:00, 16.76it/s]\n"
     ]
    },
    {
     "name": "stdout",
     "output_type": "stream",
     "text": [
      "finding overlapping polygons...\n"
     ]
    },
    {
     "name": "stderr",
     "output_type": "stream",
     "text": [
      "1894it [00:05, 338.10it/s]\n"
     ]
    },
    {
     "name": "stdout",
     "output_type": "stream",
     "text": [
      "finding best polygons...\n"
     ]
    },
    {
     "name": "stderr",
     "output_type": "stream",
     "text": [
      "100%|█████████████████████████████████████████████████████████████████████████████| 595/595 [00:05<00:00, 110.60it/s]\n"
     ]
    },
    {
     "name": "stdout",
     "output_type": "stream",
     "text": [
      "creating labeled image...\n",
      "segmenting image tiles...\n"
     ]
    },
    {
     "name": "stderr",
     "output_type": "stream",
     "text": [
      "100%|██████████████████████████████████████████████████████████████████████████████████| 9/9 [00:07<00:00,  1.24it/s]\n",
      "100%|██████████████████████████████████████████████████████████████████████████████████| 8/8 [00:06<00:00,  1.18it/s]\n"
     ]
    },
    {
     "name": "stdout",
     "output_type": "stream",
     "text": [
      "creating masks using SAM...\n"
     ]
    },
    {
     "name": "stderr",
     "output_type": "stream",
     "text": [
      "100%|████████████████████████████████████████████████████████████████████████████| 3564/3564 [03:34<00:00, 16.60it/s]\n"
     ]
    },
    {
     "name": "stdout",
     "output_type": "stream",
     "text": [
      "finding overlapping polygons...\n"
     ]
    },
    {
     "name": "stderr",
     "output_type": "stream",
     "text": [
      "3316it [00:04, 722.47it/s]\n"
     ]
    },
    {
     "name": "stdout",
     "output_type": "stream",
     "text": [
      "finding best polygons...\n"
     ]
    },
    {
     "name": "stderr",
     "output_type": "stream",
     "text": [
      "100%|███████████████████████████████████████████████████████████████████████████| 1157/1157 [00:04<00:00, 285.11it/s]\n"
     ]
    },
    {
     "name": "stdout",
     "output_type": "stream",
     "text": [
      "creating labeled image...\n",
      "segmenting image tiles...\n"
     ]
    },
    {
     "name": "stderr",
     "output_type": "stream",
     "text": [
      "100%|██████████████████████████████████████████████████████████████████████████████████| 9/9 [00:07<00:00,  1.20it/s]\n",
      "100%|██████████████████████████████████████████████████████████████████████████████████| 8/8 [00:06<00:00,  1.22it/s]\n"
     ]
    },
    {
     "name": "stdout",
     "output_type": "stream",
     "text": [
      "creating masks using SAM...\n"
     ]
    },
    {
     "name": "stderr",
     "output_type": "stream",
     "text": [
      "100%|████████████████████████████████████████████████████████████████████████████| 2484/2484 [02:30<00:00, 16.53it/s]\n"
     ]
    },
    {
     "name": "stdout",
     "output_type": "stream",
     "text": [
      "finding overlapping polygons...\n"
     ]
    },
    {
     "name": "stderr",
     "output_type": "stream",
     "text": [
      "2248it [00:05, 389.11it/s]\n"
     ]
    },
    {
     "name": "stdout",
     "output_type": "stream",
     "text": [
      "finding best polygons...\n"
     ]
    },
    {
     "name": "stderr",
     "output_type": "stream",
     "text": [
      "100%|█████████████████████████████████████████████████████████████████████████████| 709/709 [00:05<00:00, 135.47it/s]\n"
     ]
    },
    {
     "name": "stdout",
     "output_type": "stream",
     "text": [
      "creating labeled image...\n",
      "segmenting image tiles...\n"
     ]
    },
    {
     "name": "stderr",
     "output_type": "stream",
     "text": [
      "100%|██████████████████████████████████████████████████████████████████████████████████| 9/9 [00:08<00:00,  1.12it/s]\n",
      "100%|██████████████████████████████████████████████████████████████████████████████████| 8/8 [00:06<00:00,  1.21it/s]\n"
     ]
    },
    {
     "name": "stdout",
     "output_type": "stream",
     "text": [
      "creating masks using SAM...\n"
     ]
    },
    {
     "name": "stderr",
     "output_type": "stream",
     "text": [
      "100%|████████████████████████████████████████████████████████████████████████████| 1978/1978 [01:56<00:00, 17.04it/s]\n"
     ]
    },
    {
     "name": "stdout",
     "output_type": "stream",
     "text": [
      "finding overlapping polygons...\n"
     ]
    },
    {
     "name": "stderr",
     "output_type": "stream",
     "text": [
      "1712it [00:06, 257.94it/s]\n"
     ]
    },
    {
     "name": "stdout",
     "output_type": "stream",
     "text": [
      "finding best polygons...\n"
     ]
    },
    {
     "name": "stderr",
     "output_type": "stream",
     "text": [
      "100%|██████████████████████████████████████████████████████████████████████████████| 508/508 [00:06<00:00, 74.57it/s]\n"
     ]
    },
    {
     "name": "stdout",
     "output_type": "stream",
     "text": [
      "creating labeled image...\n"
     ]
    },
    {
     "name": "stderr",
     "output_type": "stream",
     "text": [
      "4731it [00:02, 2242.65it/s]\n",
      "100%|█████████████████████████████████████████████████████████████████████████████| 319/319 [00:00<00:00, 881.09it/s]\n"
     ]
    }
   ],
   "source": [
    "reload(seg)\n",
    "from PIL import Image\n",
    "Image.MAX_IMAGE_PIXELS = None # needed if working with very large images\n",
    "fname = \"/Users/zoltan/Dropbox/Segmentation/images/mair_et_al_L2_DJI_0382_image.png\"\n",
    "all_grains = seg.predict_large_image(fname, model, sam, min_area=400.0, patch_size=2000, overlap=200)"
   ]
  },
  {
   "cell_type": "code",
   "execution_count": 34,
   "id": "d1e52b04-e54e-44e6-8061-b8d0c0c76970",
   "metadata": {},
   "outputs": [],
   "source": [
    "# plot results\n",
    "big_im = np.array(load_img(fname))\n",
    "fig, ax = plt.subplots(figsize=(15,10))\n",
    "ax.imshow(big_im)\n",
    "plt.xticks([])\n",
    "plt.yticks([])\n",
    "seg.plot_image_w_colorful_grains(big_im, all_grains, ax, cmap='Paired')\n",
    "plt.axis('equal')\n",
    "plt.xlim([0, np.shape(big_im)[1]])\n",
    "plt.ylim([np.shape(big_im)[0], 0]);"
   ]
  },
  {
   "cell_type": "code",
   "execution_count": 40,
   "id": "4dae73a8-f9ce-4fb9-8661-19d4c03340f3",
   "metadata": {},
   "outputs": [],
   "source": [
    "# this is a faster way of deleting false positives (because it avoids highlighting and deleting the grains)\n",
    "grain_inds = []\n",
    "cid1 = fig.canvas.mpl_connect('button_press_event', \n",
    "                              lambda event: seg.onclick2(event, all_grains, grain_inds, ax=ax, select_only=True))"
   ]
  },
  {
   "cell_type": "code",
   "execution_count": 42,
   "id": "98b9650b-c6d9-4c23-85cc-b0234f3d2b2b",
   "metadata": {},
   "outputs": [],
   "source": [
    "# delete polygons from 'all_grains'\n",
    "grain_inds = np.unique(grain_inds)\n",
    "grain_inds = sorted(grain_inds, reverse=True)\n",
    "for ind in grain_inds:\n",
    "    all_grains.remove(all_grains[ind])"
   ]
  },
  {
   "cell_type": "code",
   "execution_count": null,
   "id": "554154c2-a582-4cf1-9ab7-b68d8b8d1a85",
   "metadata": {},
   "outputs": [],
   "source": [
    "fig.canvas.mpl_disconnect(cid1)"
   ]
  },
  {
   "cell_type": "code",
   "execution_count": null,
   "id": "35a89999-f559-4324-99ab-cb1c92ef0899",
   "metadata": {},
   "outputs": [],
   "source": [
    "# plot image with updated grains\n",
    "big_im = np.array(load_img(fname))\n",
    "fig, ax = plt.subplots(figsize=(15,10))\n",
    "ax.imshow(big_im)\n",
    "plt.xticks([])\n",
    "plt.yticks([])\n",
    "seg.plot_image_w_colorful_grains(big_im, all_grains, ax, cmap='Paired')\n",
    "plt.axis('equal')\n",
    "plt.xlim([0, np.shape(big_im)[1]])\n",
    "plt.ylim([np.shape(big_im)[0], 0]);"
   ]
  },
  {
   "cell_type": "code",
   "execution_count": null,
   "id": "72d2afc3-be71-4c23-901a-063561a24737",
   "metadata": {},
   "outputs": [],
   "source": [
    "# collect data from plot, including mask\n",
    "all_grains, labels, mask_all, fig, ax = seg.get_grains_from_patches(ax, big_im)"
   ]
  },
  {
   "cell_type": "code",
   "execution_count": 140,
   "id": "e282e730-ea49-4663-9d8f-3ce122780393",
   "metadata": {},
   "outputs": [],
   "source": [
    "from skimage.measure import regionprops, regionprops_table\n",
    "props = regionprops_table(labels, intensity_image = big_im, properties=('label', 'area', 'centroid', 'major_axis_length', 'minor_axis_length', \n",
    "                                                                                'orientation', 'perimeter', 'max_intensity', 'mean_intensity', 'min_intensity'))"
   ]
  },
  {
   "cell_type": "code",
   "execution_count": 142,
   "id": "0bdcb292-5710-4462-9e24-d51113ef70ef",
   "metadata": {},
   "outputs": [],
   "source": [
    "df = pd.DataFrame(props)"
   ]
  },
  {
   "cell_type": "code",
   "execution_count": 143,
   "id": "d05cf9c6-ab54-4e86-a61e-b3d1bcc0b7b3",
   "metadata": {},
   "outputs": [
    {
     "data": {
      "text/html": [
       "<div>\n",
       "<style scoped>\n",
       "    .dataframe tbody tr th:only-of-type {\n",
       "        vertical-align: middle;\n",
       "    }\n",
       "\n",
       "    .dataframe tbody tr th {\n",
       "        vertical-align: top;\n",
       "    }\n",
       "\n",
       "    .dataframe thead th {\n",
       "        text-align: right;\n",
       "    }\n",
       "</style>\n",
       "<table border=\"1\" class=\"dataframe\">\n",
       "  <thead>\n",
       "    <tr style=\"text-align: right;\">\n",
       "      <th></th>\n",
       "      <th>label</th>\n",
       "      <th>area</th>\n",
       "      <th>centroid-0</th>\n",
       "      <th>centroid-1</th>\n",
       "      <th>major_axis_length</th>\n",
       "      <th>minor_axis_length</th>\n",
       "      <th>orientation</th>\n",
       "      <th>perimeter</th>\n",
       "      <th>max_intensity-0</th>\n",
       "      <th>max_intensity-1</th>\n",
       "      <th>max_intensity-2</th>\n",
       "      <th>mean_intensity-0</th>\n",
       "      <th>mean_intensity-1</th>\n",
       "      <th>mean_intensity-2</th>\n",
       "      <th>min_intensity-0</th>\n",
       "      <th>min_intensity-1</th>\n",
       "      <th>min_intensity-2</th>\n",
       "    </tr>\n",
       "  </thead>\n",
       "  <tbody>\n",
       "    <tr>\n",
       "      <th>0</th>\n",
       "      <td>1</td>\n",
       "      <td>830.0</td>\n",
       "      <td>43960.320482</td>\n",
       "      <td>1677.862651</td>\n",
       "      <td>38.752309</td>\n",
       "      <td>27.316355</td>\n",
       "      <td>0.273334</td>\n",
       "      <td>107.497475</td>\n",
       "      <td>200.0</td>\n",
       "      <td>205.0</td>\n",
       "      <td>214.0</td>\n",
       "      <td>77.914458</td>\n",
       "      <td>67.026506</td>\n",
       "      <td>61.689157</td>\n",
       "      <td>10.0</td>\n",
       "      <td>25.0</td>\n",
       "      <td>20.0</td>\n",
       "    </tr>\n",
       "    <tr>\n",
       "      <th>1</th>\n",
       "      <td>2</td>\n",
       "      <td>1136.0</td>\n",
       "      <td>43590.179577</td>\n",
       "      <td>686.280810</td>\n",
       "      <td>43.211267</td>\n",
       "      <td>34.025389</td>\n",
       "      <td>0.857311</td>\n",
       "      <td>126.225397</td>\n",
       "      <td>207.0</td>\n",
       "      <td>218.0</td>\n",
       "      <td>211.0</td>\n",
       "      <td>145.168134</td>\n",
       "      <td>143.100352</td>\n",
       "      <td>143.987676</td>\n",
       "      <td>34.0</td>\n",
       "      <td>37.0</td>\n",
       "      <td>65.0</td>\n",
       "    </tr>\n",
       "    <tr>\n",
       "      <th>2</th>\n",
       "      <td>3</td>\n",
       "      <td>1571.0</td>\n",
       "      <td>43189.798218</td>\n",
       "      <td>963.990452</td>\n",
       "      <td>56.501983</td>\n",
       "      <td>35.768381</td>\n",
       "      <td>0.805265</td>\n",
       "      <td>149.923882</td>\n",
       "      <td>217.0</td>\n",
       "      <td>222.0</td>\n",
       "      <td>216.0</td>\n",
       "      <td>149.928708</td>\n",
       "      <td>145.283896</td>\n",
       "      <td>141.232336</td>\n",
       "      <td>26.0</td>\n",
       "      <td>31.0</td>\n",
       "      <td>21.0</td>\n",
       "    </tr>\n",
       "    <tr>\n",
       "      <th>3</th>\n",
       "      <td>4</td>\n",
       "      <td>3388.0</td>\n",
       "      <td>43150.272137</td>\n",
       "      <td>588.850945</td>\n",
       "      <td>92.152532</td>\n",
       "      <td>47.986861</td>\n",
       "      <td>1.432245</td>\n",
       "      <td>237.823376</td>\n",
       "      <td>226.0</td>\n",
       "      <td>224.0</td>\n",
       "      <td>226.0</td>\n",
       "      <td>144.553424</td>\n",
       "      <td>139.338843</td>\n",
       "      <td>133.357143</td>\n",
       "      <td>32.0</td>\n",
       "      <td>41.0</td>\n",
       "      <td>39.0</td>\n",
       "    </tr>\n",
       "    <tr>\n",
       "      <th>4</th>\n",
       "      <td>5</td>\n",
       "      <td>897.0</td>\n",
       "      <td>42856.816054</td>\n",
       "      <td>620.888517</td>\n",
       "      <td>42.509864</td>\n",
       "      <td>27.112746</td>\n",
       "      <td>-1.446275</td>\n",
       "      <td>114.568542</td>\n",
       "      <td>223.0</td>\n",
       "      <td>223.0</td>\n",
       "      <td>216.0</td>\n",
       "      <td>177.035674</td>\n",
       "      <td>176.288740</td>\n",
       "      <td>176.924192</td>\n",
       "      <td>68.0</td>\n",
       "      <td>59.0</td>\n",
       "      <td>67.0</td>\n",
       "    </tr>\n",
       "  </tbody>\n",
       "</table>\n",
       "</div>"
      ],
      "text/plain": [
       "   label    area    centroid-0   centroid-1  major_axis_length  \\\n",
       "0      1   830.0  43960.320482  1677.862651          38.752309   \n",
       "1      2  1136.0  43590.179577   686.280810          43.211267   \n",
       "2      3  1571.0  43189.798218   963.990452          56.501983   \n",
       "3      4  3388.0  43150.272137   588.850945          92.152532   \n",
       "4      5   897.0  42856.816054   620.888517          42.509864   \n",
       "\n",
       "   minor_axis_length  orientation   perimeter  max_intensity-0  \\\n",
       "0          27.316355     0.273334  107.497475            200.0   \n",
       "1          34.025389     0.857311  126.225397            207.0   \n",
       "2          35.768381     0.805265  149.923882            217.0   \n",
       "3          47.986861     1.432245  237.823376            226.0   \n",
       "4          27.112746    -1.446275  114.568542            223.0   \n",
       "\n",
       "   max_intensity-1  max_intensity-2  mean_intensity-0  mean_intensity-1  \\\n",
       "0            205.0            214.0         77.914458         67.026506   \n",
       "1            218.0            211.0        145.168134        143.100352   \n",
       "2            222.0            216.0        149.928708        145.283896   \n",
       "3            224.0            226.0        144.553424        139.338843   \n",
       "4            223.0            216.0        177.035674        176.288740   \n",
       "\n",
       "   mean_intensity-2  min_intensity-0  min_intensity-1  min_intensity-2  \n",
       "0         61.689157             10.0             25.0             20.0  \n",
       "1        143.987676             34.0             37.0             65.0  \n",
       "2        141.232336             26.0             31.0             21.0  \n",
       "3        133.357143             32.0             41.0             39.0  \n",
       "4        176.924192             68.0             59.0             67.0  "
      ]
     },
     "execution_count": 143,
     "metadata": {},
     "output_type": "execute_result"
    }
   ],
   "source": [
    "df.head()"
   ]
  },
  {
   "cell_type": "code",
   "execution_count": 195,
   "id": "eb49df15-95dc-44f6-ae41-ad778daa309f",
   "metadata": {},
   "outputs": [
    {
     "name": "stderr",
     "output_type": "stream",
     "text": [
      "100%|███████████████████████████████████| 78923/78923 [00:21<00:00, 3616.88it/s]\n"
     ]
    }
   ],
   "source": [
    "# plot grains in black and white\n",
    "plt.figure()\n",
    "# plt.imshow(big_im[0:2001, 0:2001, :])\n",
    "for grain in tqdm(all_grains):\n",
    "    plt.plot(grain.exterior.xy[0], grain.exterior.xy[1], 'k', linewidth=0.2)\n",
    "plt.axis('equal')\n",
    "plt.gca().invert_yaxis();"
   ]
  },
  {
   "cell_type": "markdown",
   "id": "74b9e579-8c81-4baf-9262-eb4b1584c646",
   "metadata": {},
   "source": [
    "After plotting the results, you will want to use the functions for deleting, merging, and adding grains (see above), before saving the results (same workflow as for a small image)."
   ]
  }
 ],
 "metadata": {
  "kernelspec": {
   "display_name": "Python 3 (ipykernel)",
   "language": "python",
   "name": "python3"
  },
  "language_info": {
   "codemirror_mode": {
    "name": "ipython",
    "version": 3
   },
   "file_extension": ".py",
   "mimetype": "text/x-python",
   "name": "python",
   "nbconvert_exporter": "python",
   "pygments_lexer": "ipython3",
   "version": "3.8.20"
  }
 },
 "nbformat": 4,
 "nbformat_minor": 5
}
