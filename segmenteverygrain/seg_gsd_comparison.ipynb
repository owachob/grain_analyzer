{
 "cells": [
  {
   "cell_type": "markdown",
   "id": "95a8f02b",
   "metadata": {},
   "source": [
    "## Import packages"
   ]
  },
  {
   "cell_type": "code",
   "execution_count": 1,
   "id": "f2ebc518",
   "metadata": {},
   "outputs": [],
   "source": [
    "import pandas as pd\n",
    "import numpy as np\n",
    "import matplotlib.pyplot as plt\n",
    "import cv2\n",
    "from skimage import measure\n",
    "from skimage.measure import regionprops, regionprops_table\n",
    "from tensorflow.keras.optimizers.legacy import Adam\n",
    "from tensorflow.keras.preprocessing.image import load_img\n",
    "from importlib import reload\n",
    "import segmenteverygrain as seg\n",
    "from segment_anything import sam_model_registry, SamAutomaticMaskGenerator, SamPredictor\n",
    "from tqdm import trange\n",
    "%matplotlib qt"
   ]
  },
  {
   "cell_type": "markdown",
   "id": "f474ac20",
   "metadata": {},
   "source": [
    "## Load models"
   ]
  },
  {
   "cell_type": "code",
   "execution_count": 3,
   "id": "fe1bd2bc",
   "metadata": {},
   "outputs": [],
   "source": [
    "model = seg.Unet()\n",
    "model.compile(optimizer=Adam(), loss=seg.weighted_crossentropy, metrics=[\"accuracy\"])\n",
    "model.load_weights('./checkpoints/seg_model') # replace this if you have a finetuned Unet model and want to use it\n",
    "\n",
    "# the SAM model checkpoints can be downloaded from: https://dl.fbaipublicfiles.com/segment_anything/sam_vit_h_4b8939.pth\n",
    "sam = sam_model_registry[\"default\"](checkpoint=r\"C:\\Users\\juan_\\Python\\JSG_2024_Hackathon\\segmenteverygrain\\SAM\\sam_vit_h_4b8939.pth\")"
   ]
  },
  {
   "cell_type": "markdown",
   "id": "a3c1dfc6",
   "metadata": {},
   "source": [
    "## Run segmentation\n",
    "\n",
    "Grains are supposed to be well defined in the image; e.g., if a grain consists of only a few pixels, it is unlikely to be detected.\n",
    "\n",
    "The segmentation can take a few minutes even for medium-sized images. Images with ~2000 pixels along their largest dimension are a good start and allow the user to get an idea about how well the segmentation works.\n",
    "\n",
    "If you have a much larger image, see the section **\"Run segmentation on large image\"** at the end of the notebook. Running the `predict_large_image` function takes a lot longer (e.g., several hours), but it is possible to analyze very large images with tens of thousands of grains.\n",
    "\n",
    "Image used below is available from [here](https://github.com/zsylvester/segmenteverygrain/blob/main/torrey_pines_beach.jpeg)."
   ]
  },
  {
   "cell_type": "code",
   "execution_count": 4,
   "id": "94bf3f94",
   "metadata": {},
   "outputs": [
    {
     "name": "stdout",
     "output_type": "stream",
     "text": [
      "segmenting image tiles...\n"
     ]
    },
    {
     "name": "stderr",
     "output_type": "stream",
     "text": [
      "100%|████████████████████████████████████████████████████████████████████████████████████| 4/4 [00:03<00:00,  1.21it/s]\n",
      "100%|████████████████████████████████████████████████████████████████████████████████████| 3/3 [00:01<00:00,  2.08it/s]\n"
     ]
    }
   ],
   "source": [
    "# replace this with the path to your image:\n",
    "fname = r\"C:\\Users\\juan_\\Python\\JSG_2024_Hackathon\\1973\\wellsorted_lowerfinegrainsize.PNG\"\n",
    "\n",
    "image = np.array(load_img(fname))\n",
    "image_pred = seg.predict_image(image, model, I=256)\n",
    "\n",
    "# decreasing the 'dbs_max_dist' parameter results in more SAM prompts (and longer processing times):\n",
    "labels, coords = seg.label_grains(image, image_pred, dbs_max_dist=20.0) # Unet prediction"
   ]
  },
  {
   "cell_type": "markdown",
   "id": "7c091d4c",
   "metadata": {},
   "source": [
    "Use the figure created in the next cell to check the quality of the Unet labeling (sometimes it doesn't work at all) and the distribution of SAM prompts (= black dots). If the Unet prediction is of poor quality, it is a good idea to create some training data and fine tune the base model so that it works better with the images of interest."
   ]
  },
  {
   "cell_type": "code",
   "execution_count": 5,
   "id": "e031a13f",
   "metadata": {},
   "outputs": [],
   "source": [
    "plt.figure(figsize=(15,10))\n",
    "plt.imshow(image_pred)\n",
    "plt.scatter(np.array(coords)[:,0], np.array(coords)[:,1], c='k')\n",
    "plt.xticks([])\n",
    "plt.yticks([]);"
   ]
  },
  {
   "cell_type": "code",
   "execution_count": 6,
   "id": "99bcedac-6a3f-4f1d-97a9-b167fa14994c",
   "metadata": {},
   "outputs": [
    {
     "name": "stdout",
     "output_type": "stream",
     "text": [
      "creating masks using SAM...\n"
     ]
    },
    {
     "name": "stderr",
     "output_type": "stream",
     "text": [
      "100%|████████████████████████████████████████████████████████████████████████████████| 350/350 [00:27<00:00, 12.60it/s]\n"
     ]
    },
    {
     "name": "stdout",
     "output_type": "stream",
     "text": [
      "finding overlapping polygons...\n"
     ]
    },
    {
     "name": "stderr",
     "output_type": "stream",
     "text": [
      "336it [00:00, 357.24it/s]\n"
     ]
    },
    {
     "name": "stdout",
     "output_type": "stream",
     "text": [
      "finding best polygons...\n"
     ]
    },
    {
     "name": "stderr",
     "output_type": "stream",
     "text": [
      "100%|███████████████████████████████████████████████████████████████████████████████| 121/121 [00:00<00:00, 127.70it/s]\n"
     ]
    },
    {
     "name": "stdout",
     "output_type": "stream",
     "text": [
      "creating labeled image...\n"
     ]
    },
    {
     "name": "stderr",
     "output_type": "stream",
     "text": [
      "100%|███████████████████████████████████████████████████████████████████████████████| 130/130 [00:00<00:00, 159.73it/s]\n"
     ]
    }
   ],
   "source": [
    "# SAM segmentation, using the point prompts from the Unet:\n",
    "all_grains, labels, mask_all, grain_data, fig, ax = seg.sam_segmentation(sam, image, image_pred, \n",
    "                                                coords, labels, min_area=400.0, plot_image=True, remove_edge_grains=False, remove_large_objects=False)"
   ]
  },
  {
   "cell_type": "markdown",
   "id": "968737c4",
   "metadata": {},
   "source": [
    "## Delete or merge grains in segmentation result\n",
    "* click on the grain that you want to remove and press the 'x' key\n",
    "* click on two grains that you want to merge and press the 'm' key (they have to be the last two grains you clicked on)\n",
    "* press the 'g' key to hide the grain masks (so that you can see the original image better); press the 'g' key again to show the grain masks"
   ]
  },
  {
   "cell_type": "code",
   "execution_count": 7,
   "id": "e1761761",
   "metadata": {},
   "outputs": [],
   "source": [
    "grain_inds = []\n",
    "cid1 = fig.canvas.mpl_connect('button_press_event', \n",
    "                              lambda event: seg.onclick2(event, all_grains, grain_inds, ax=ax))\n",
    "cid2 = fig.canvas.mpl_connect('key_press_event', \n",
    "                              lambda event: seg.onpress2(event, all_grains, grain_inds, fig=fig, ax=ax))"
   ]
  },
  {
   "cell_type": "markdown",
   "id": "5d08448d",
   "metadata": {},
   "source": [
    "Run this cell if you do not want to delete / merge existing grains anymore; it is a good idea to do this before moving on to the next step."
   ]
  },
  {
   "cell_type": "code",
   "execution_count": 8,
   "id": "8b6987ae",
   "metadata": {},
   "outputs": [],
   "source": [
    "fig.canvas.mpl_disconnect(cid1)\n",
    "fig.canvas.mpl_disconnect(cid2)"
   ]
  },
  {
   "cell_type": "markdown",
   "id": "b1ef7d75",
   "metadata": {},
   "source": [
    "Use this function to update the 'labels' array after deleting and merging grains (the 'all_grains' list is updated when doing the deletion and merging):"
   ]
  },
  {
   "cell_type": "code",
   "execution_count": 9,
   "id": "9f7b8082",
   "metadata": {},
   "outputs": [
    {
     "name": "stderr",
     "output_type": "stream",
     "text": [
      "100%|██████████████████████████████████████████████████████████████████████████████| 130/130 [00:00<00:00, 3204.36it/s]\n",
      "100%|███████████████████████████████████████████████████████████████████████████████| 130/130 [00:00<00:00, 203.96it/s]\n"
     ]
    }
   ],
   "source": [
    "all_grains, labels, mask_all, fig, ax = seg.get_grains_from_patches(ax, image)"
   ]
  },
  {
   "cell_type": "markdown",
   "id": "36ca344c",
   "metadata": {},
   "source": [
    "Plot the updated set of grains:"
   ]
  },
  {
   "cell_type": "code",
   "execution_count": 10,
   "id": "7e0f7f02",
   "metadata": {},
   "outputs": [
    {
     "name": "stderr",
     "output_type": "stream",
     "text": [
      "100%|███████████████████████████████████████████████████████████████████████████████| 130/130 [00:00<00:00, 165.55it/s]\n"
     ]
    }
   ],
   "source": [
    "fig, ax = plt.subplots(figsize=(15,10))\n",
    "plt.xticks([])\n",
    "plt.yticks([])\n",
    "seg.plot_image_w_colorful_grains(image, all_grains, ax, cmap='Paired', plot_image=False)\n",
    "seg.plot_grain_axes_and_centroids(all_grains, labels, ax, linewidth=1, markersize=10)\n",
    "plt.xlim([0, np.shape(image)[1]])\n",
    "plt.ylim([np.shape(image)[0], 0]);"
   ]
  },
  {
   "cell_type": "markdown",
   "id": "ab7201a5",
   "metadata": {},
   "source": [
    "## Add new grains using the Segment Anything Model\n",
    "\n",
    "* click on unsegmented grain that you want to add\n",
    "* press the 'x' key if you want to delete the last grain you added\n",
    "* press the 'm' key if you want to merge the last two grains that you added\n",
    "* right click outside the grain (but inside the most recent mask) if you want to restrict the grain to a smaller mask - this adds a background prompt"
   ]
  },
  {
   "cell_type": "code",
   "execution_count": 11,
   "id": "04b1a138",
   "metadata": {},
   "outputs": [],
   "source": [
    "predictor = SamPredictor(sam)\n",
    "predictor.set_image(image) # this can take a while\n",
    "coords = []\n",
    "cid3 = fig.canvas.mpl_connect('button_press_event', lambda event: seg.onclick(event, ax, coords, image, predictor))\n",
    "cid4 = fig.canvas.mpl_connect('key_press_event', lambda event: seg.onpress(event, ax, fig))"
   ]
  },
  {
   "cell_type": "code",
   "execution_count": 12,
   "id": "02386a92",
   "metadata": {},
   "outputs": [],
   "source": [
    "fig.canvas.mpl_disconnect(cid3)\n",
    "fig.canvas.mpl_disconnect(cid4)"
   ]
  },
  {
   "cell_type": "code",
   "execution_count": 13,
   "id": "201341bc-8f56-4b82-912b-dbedaf4d974b",
   "metadata": {},
   "outputs": [
    {
     "name": "stderr",
     "output_type": "stream",
     "text": [
      "100%|██████████████████████████████████████████████████████████████████████████████| 130/130 [00:00<00:00, 2670.72it/s]\n",
      "100%|███████████████████████████████████████████████████████████████████████████████| 130/130 [00:00<00:00, 183.92it/s]\n"
     ]
    }
   ],
   "source": [
    "all_grains, labels, mask_all, fig, ax = seg.get_grains_from_patches(ax, image)"
   ]
  },
  {
   "cell_type": "markdown",
   "id": "6ae4b89a",
   "metadata": {},
   "source": [
    "After you are done with the deletion / addition of grain masks, run this cell to generate an updated set of grains:"
   ]
  },
  {
   "cell_type": "code",
   "execution_count": 14,
   "id": "4355b526",
   "metadata": {},
   "outputs": [
    {
     "name": "stderr",
     "output_type": "stream",
     "text": [
      "100%|██████████████████████████████████████████████████████████████████████████████| 130/130 [00:00<00:00, 8017.34it/s]\n",
      "100%|███████████████████████████████████████████████████████████████████████████████| 130/130 [00:00<00:00, 163.07it/s]\n"
     ]
    }
   ],
   "source": [
    "all_grains, labels, mask_all, fig, ax = seg.get_grains_from_patches(ax, image)"
   ]
  },
  {
   "cell_type": "markdown",
   "id": "768a05d2",
   "metadata": {},
   "source": [
    "## Get grain size distribution"
   ]
  },
  {
   "cell_type": "markdown",
   "id": "96892a89",
   "metadata": {},
   "source": [
    "Run this cell and then click (left mouse button) on one end of the scale bar in the image and click (right mouse button) on the other end of the scale bar:"
   ]
  },
  {
   "cell_type": "code",
   "execution_count": 15,
   "id": "869c6cd4",
   "metadata": {},
   "outputs": [],
   "source": [
    "cid5 = fig.canvas.mpl_connect('button_press_event', lambda event: seg.click_for_scale(event, ax))"
   ]
  },
  {
   "cell_type": "markdown",
   "id": "658e2f0a",
   "metadata": {},
   "source": [
    "Use the length of the scale bar in pixels (it should be printed above) to get the scale of the image (in units / pixel):"
   ]
  },
  {
   "cell_type": "code",
   "execution_count": 16,
   "id": "7893cfb7",
   "metadata": {},
   "outputs": [],
   "source": [
    "n_of_units = 1000\n",
    "units_per_pixel = n_of_units/1552.77 # length of scale bar in pixels"
   ]
  },
  {
   "cell_type": "code",
   "execution_count": 17,
   "id": "b56c5732",
   "metadata": {},
   "outputs": [],
   "source": [
    "props = regionprops_table(labels.astype('int'), intensity_image = image, properties =\\\n",
    "        ('label', 'area', 'centroid', 'major_axis_length', 'minor_axis_length', \n",
    "         'orientation', 'perimeter', 'max_intensity', 'mean_intensity', 'min_intensity'))\n",
    "grain_data = pd.DataFrame(props)\n",
    "grain_data['major_axis_length'] = grain_data['major_axis_length'].values*units_per_pixel\n",
    "grain_data['minor_axis_length'] = grain_data['minor_axis_length'].values*units_per_pixel\n",
    "grain_data['perimeter'] = grain_data['perimeter'].values*units_per_pixel\n",
    "grain_data['area'] = grain_data['area'].values*units_per_pixel**2"
   ]
  },
  {
   "cell_type": "code",
   "execution_count": 18,
   "id": "202f5650",
   "metadata": {},
   "outputs": [
    {
     "data": {
      "text/html": [
       "<div>\n",
       "<style scoped>\n",
       "    .dataframe tbody tr th:only-of-type {\n",
       "        vertical-align: middle;\n",
       "    }\n",
       "\n",
       "    .dataframe tbody tr th {\n",
       "        vertical-align: top;\n",
       "    }\n",
       "\n",
       "    .dataframe thead th {\n",
       "        text-align: right;\n",
       "    }\n",
       "</style>\n",
       "<table border=\"1\" class=\"dataframe\">\n",
       "  <thead>\n",
       "    <tr style=\"text-align: right;\">\n",
       "      <th></th>\n",
       "      <th>label</th>\n",
       "      <th>area</th>\n",
       "      <th>centroid-0</th>\n",
       "      <th>centroid-1</th>\n",
       "      <th>major_axis_length</th>\n",
       "      <th>minor_axis_length</th>\n",
       "      <th>orientation</th>\n",
       "      <th>perimeter</th>\n",
       "      <th>max_intensity-0</th>\n",
       "      <th>max_intensity-1</th>\n",
       "      <th>max_intensity-2</th>\n",
       "      <th>mean_intensity-0</th>\n",
       "      <th>mean_intensity-1</th>\n",
       "      <th>mean_intensity-2</th>\n",
       "      <th>min_intensity-0</th>\n",
       "      <th>min_intensity-1</th>\n",
       "      <th>min_intensity-2</th>\n",
       "    </tr>\n",
       "  </thead>\n",
       "  <tbody>\n",
       "    <tr>\n",
       "      <th>0</th>\n",
       "      <td>1</td>\n",
       "      <td>182.904473</td>\n",
       "      <td>18.868481</td>\n",
       "      <td>141.802721</td>\n",
       "      <td>18.116601</td>\n",
       "      <td>12.939460</td>\n",
       "      <td>1.493505</td>\n",
       "      <td>50.194894</td>\n",
       "      <td>255.0</td>\n",
       "      <td>255.0</td>\n",
       "      <td>255.0</td>\n",
       "      <td>213.113379</td>\n",
       "      <td>213.113379</td>\n",
       "      <td>213.113379</td>\n",
       "      <td>15.0</td>\n",
       "      <td>15.0</td>\n",
       "      <td>15.0</td>\n",
       "    </tr>\n",
       "    <tr>\n",
       "      <th>1</th>\n",
       "      <td>2</td>\n",
       "      <td>309.403031</td>\n",
       "      <td>124.817694</td>\n",
       "      <td>741.646113</td>\n",
       "      <td>24.761440</td>\n",
       "      <td>16.069528</td>\n",
       "      <td>0.115414</td>\n",
       "      <td>68.097732</td>\n",
       "      <td>255.0</td>\n",
       "      <td>255.0</td>\n",
       "      <td>255.0</td>\n",
       "      <td>227.486595</td>\n",
       "      <td>227.486595</td>\n",
       "      <td>227.486595</td>\n",
       "      <td>63.0</td>\n",
       "      <td>63.0</td>\n",
       "      <td>63.0</td>\n",
       "    </tr>\n",
       "    <tr>\n",
       "      <th>2</th>\n",
       "      <td>3</td>\n",
       "      <td>243.872630</td>\n",
       "      <td>249.421769</td>\n",
       "      <td>394.579932</td>\n",
       "      <td>22.468607</td>\n",
       "      <td>14.242538</td>\n",
       "      <td>-0.239939</td>\n",
       "      <td>60.655323</td>\n",
       "      <td>255.0</td>\n",
       "      <td>255.0</td>\n",
       "      <td>255.0</td>\n",
       "      <td>213.530612</td>\n",
       "      <td>213.530612</td>\n",
       "      <td>213.530612</td>\n",
       "      <td>34.0</td>\n",
       "      <td>34.0</td>\n",
       "      <td>34.0</td>\n",
       "    </tr>\n",
       "    <tr>\n",
       "      <th>3</th>\n",
       "      <td>4</td>\n",
       "      <td>329.311001</td>\n",
       "      <td>52.093199</td>\n",
       "      <td>58.955919</td>\n",
       "      <td>28.881017</td>\n",
       "      <td>15.033689</td>\n",
       "      <td>0.262980</td>\n",
       "      <td>74.915088</td>\n",
       "      <td>255.0</td>\n",
       "      <td>255.0</td>\n",
       "      <td>255.0</td>\n",
       "      <td>219.547859</td>\n",
       "      <td>219.547859</td>\n",
       "      <td>219.547859</td>\n",
       "      <td>65.0</td>\n",
       "      <td>65.0</td>\n",
       "      <td>65.0</td>\n",
       "    </tr>\n",
       "    <tr>\n",
       "      <th>4</th>\n",
       "      <td>5</td>\n",
       "      <td>184.978220</td>\n",
       "      <td>74.475336</td>\n",
       "      <td>99.488789</td>\n",
       "      <td>17.555486</td>\n",
       "      <td>13.524346</td>\n",
       "      <td>0.456820</td>\n",
       "      <td>50.572147</td>\n",
       "      <td>251.0</td>\n",
       "      <td>251.0</td>\n",
       "      <td>251.0</td>\n",
       "      <td>123.484305</td>\n",
       "      <td>123.484305</td>\n",
       "      <td>123.484305</td>\n",
       "      <td>15.0</td>\n",
       "      <td>15.0</td>\n",
       "      <td>15.0</td>\n",
       "    </tr>\n",
       "  </tbody>\n",
       "</table>\n",
       "</div>"
      ],
      "text/plain": [
       "   label        area  centroid-0  centroid-1  major_axis_length  \\\n",
       "0      1  182.904473   18.868481  141.802721          18.116601   \n",
       "1      2  309.403031  124.817694  741.646113          24.761440   \n",
       "2      3  243.872630  249.421769  394.579932          22.468607   \n",
       "3      4  329.311001   52.093199   58.955919          28.881017   \n",
       "4      5  184.978220   74.475336   99.488789          17.555486   \n",
       "\n",
       "   minor_axis_length  orientation  perimeter  max_intensity-0  \\\n",
       "0          12.939460     1.493505  50.194894            255.0   \n",
       "1          16.069528     0.115414  68.097732            255.0   \n",
       "2          14.242538    -0.239939  60.655323            255.0   \n",
       "3          15.033689     0.262980  74.915088            255.0   \n",
       "4          13.524346     0.456820  50.572147            251.0   \n",
       "\n",
       "   max_intensity-1  max_intensity-2  mean_intensity-0  mean_intensity-1  \\\n",
       "0            255.0            255.0        213.113379        213.113379   \n",
       "1            255.0            255.0        227.486595        227.486595   \n",
       "2            255.0            255.0        213.530612        213.530612   \n",
       "3            255.0            255.0        219.547859        219.547859   \n",
       "4            251.0            251.0        123.484305        123.484305   \n",
       "\n",
       "   mean_intensity-2  min_intensity-0  min_intensity-1  min_intensity-2  \n",
       "0        213.113379             15.0             15.0             15.0  \n",
       "1        227.486595             63.0             63.0             63.0  \n",
       "2        213.530612             34.0             34.0             34.0  \n",
       "3        219.547859             65.0             65.0             65.0  \n",
       "4        123.484305             15.0             15.0             15.0  "
      ]
     },
     "execution_count": 18,
     "metadata": {},
     "output_type": "execute_result"
    }
   ],
   "source": [
    "grain_data.head()"
   ]
  },
  {
   "cell_type": "code",
   "execution_count": 19,
   "id": "5a701881-07fa-4662-aafa-d432661fafff",
   "metadata": {},
   "outputs": [],
   "source": [
    "grain_data.to_csv(fname[:-4]+'.csv') # save grain data to CSV file"
   ]
  },
  {
   "cell_type": "code",
   "execution_count": 20,
   "id": "a8663eef",
   "metadata": {},
   "outputs": [],
   "source": [
    "# plot histogram of grain axis lengths\n",
    "plt.figure()\n",
    "plt.hist(grain_data['major_axis_length'], np.arange(0, 100, 1), alpha=0.5)\n",
    "plt.hist(grain_data['minor_axis_length'], np.arange(0, 100, 1), alpha=0.5)\n",
    "plt.xlim(0,100)\n",
    "plt.xlabel('axis length (microns)')\n",
    "plt.ylabel('count');"
   ]
  },
  {
   "cell_type": "markdown",
   "id": "b1288091-8d51-4550-a6e3-7d9ea9a06654",
   "metadata": {},
   "source": [
    "## Normalize area for Montecarlo simulation"
   ]
  },
  {
   "cell_type": "code",
   "execution_count": 31,
   "id": "7ca789d8-c6a4-458b-bba2-293dd33c4655",
   "metadata": {},
   "outputs": [
    {
     "name": "stdout",
     "output_type": "stream",
     "text": [
      "     Unnamed: 0  label         area  centroid-0  centroid-1  \\\n",
      "128         128    129   237.236640  340.202797  437.895105   \n",
      "32           32     33  1800.427021    3.791753  449.822391   \n",
      "39           39     40   288.250813  128.650360  662.282014   \n",
      "14           14     15   283.273821   84.759883   47.339678   \n",
      "5             5      6   308.573532  157.071237   18.174731   \n",
      "115         115    116   192.858458  443.791398  707.516129   \n",
      "98           98     99   313.135775  324.728477  564.162914   \n",
      "68           68     69   235.577643   39.720070  431.616197   \n",
      "54           54     55   179.586478  422.006928  709.926097   \n",
      "20           20     21   252.582367  307.916256  602.715928   \n",
      "2             2      3   243.872630  249.421769  394.579932   \n",
      "63           63     64   405.210136  554.254862  334.859775   \n",
      "109         109    110   233.918645  393.154255  331.092199   \n",
      "6             6      7   294.472054  199.301408   56.361972   \n",
      "38           38     39   197.420701  118.037815  273.321429   \n",
      "52           52     53   229.356402  367.484629  517.508137   \n",
      "114         114    115   225.208909  442.620626  237.716390   \n",
      "7             7      8   394.011903  216.130526   20.929474   \n",
      "69           69     70   196.591202   46.679325  304.217300   \n",
      "48           48     49   727.470397  343.891676  187.911060   \n",
      "24           24     25   226.867906  384.277879  199.343693   \n",
      "29           29     30   194.517455  472.867804  666.095949   \n",
      "110         110    111   565.303393  418.505503  369.133529   \n",
      "40           40     41   314.380024  125.493404  539.912929   \n",
      "15           15     16   239.725137   99.835640  475.581315   \n",
      "103         103    104   315.624272  342.772668  389.211564   \n",
      "50           50     51   333.043745  349.963885   47.932752   \n",
      "96           96     97   304.011289  313.834925  512.731241   \n",
      "108         108    109   218.572919  385.210626  676.715370   \n",
      "37           37     38   220.231916  100.299435  391.615819   \n",
      "\n",
      "     major_axis_length  minor_axis_length  orientation   perimeter  \\\n",
      "128          22.639178          13.413909    -0.320189   60.967849   \n",
      "32          514.783168          10.572654     1.563412  986.994652   \n",
      "39           30.776094          12.423255     0.037496   76.267835   \n",
      "14           23.428760          15.803229    -0.611932   65.742680   \n",
      "5            24.545727          16.380628     0.336123   69.073227   \n",
      "115          19.849041          12.553900    -1.366872   53.304451   \n",
      "98           30.455150          13.262977    -0.453139   73.939594   \n",
      "68           22.621584          13.743527     0.400220   60.434334   \n",
      "54           18.204389          12.726811     1.424702   49.817641   \n",
      "20           30.199064          10.823912     0.628187   69.321026   \n",
      "2            22.468607          14.242538    -0.239939   60.655323   \n",
      "63           29.923604          19.328809    -0.215570   85.973760   \n",
      "109          23.188008          13.265626     1.037647   61.566091   \n",
      "6            20.400626          18.575298    -0.287292   63.635428   \n",
      "38           17.568480          15.172935    -1.324001   53.681704   \n",
      "52           18.959185          15.565358     0.135490   55.503240   \n",
      "114          19.590608          14.780389    -1.255861   55.724230   \n",
      "7            31.754936          16.405169    -0.540937   82.578487   \n",
      "69           19.881710          12.854844    -1.264716   53.304451   \n",
      "48           36.916640          25.953936    -0.077532  108.053186   \n",
      "24           21.910004          13.708830    -0.216616   58.833787   \n",
      "29           18.977663          13.227968     1.287986   52.393683   \n",
      "110          34.877385          21.536123     0.550213   95.550231   \n",
      "40           20.328005          19.927705     0.698798   66.965974   \n",
      "15           20.032318          15.314863     0.778213   57.637303   \n",
      "103          21.557091          19.171403     0.910237   68.097732   \n",
      "50           22.990947          18.560099     0.345153   67.472680   \n",
      "96           21.934062          17.869965     0.485072   64.988175   \n",
      "108          21.603111          13.795580     0.968756   62.568396   \n",
      "37           19.637536          14.699251    -0.012893   57.793566   \n",
      "\n",
      "     max_intensity-0  max_intensity-1  max_intensity-2  mean_intensity-0  \\\n",
      "128            245.0            245.0            245.0        175.319930   \n",
      "32             255.0            255.0            255.0        239.795669   \n",
      "39             255.0            255.0            255.0        199.943885   \n",
      "14             254.0            254.0            254.0        208.674963   \n",
      "5              254.0            254.0            254.0        204.278226   \n",
      "115            254.0            254.0            254.0        178.086022   \n",
      "98             255.0            255.0            255.0        211.231788   \n",
      "68             255.0            255.0            255.0        212.711268   \n",
      "54             198.0            198.0            198.0        119.697460   \n",
      "20             213.0            213.0            213.0        141.947455   \n",
      "2              255.0            255.0            255.0        213.530612   \n",
      "63             255.0            255.0            255.0        221.018424   \n",
      "109            254.0            254.0            254.0        200.304965   \n",
      "6              255.0            255.0            255.0        199.295775   \n",
      "38             254.0            254.0            254.0        207.630252   \n",
      "52             254.0            254.0            254.0        211.616637   \n",
      "114            254.0            254.0            254.0        200.224678   \n",
      "7              255.0            255.0            255.0        231.034737   \n",
      "69             255.0            255.0            255.0        205.681435   \n",
      "48             255.0            255.0            255.0        235.998290   \n",
      "24             255.0            255.0            255.0        206.989031   \n",
      "29             255.0            255.0            255.0        217.347548   \n",
      "110            255.0            255.0            255.0        234.597946   \n",
      "40             252.0            252.0            252.0        179.416887   \n",
      "15             138.0            138.0            138.0         91.155709   \n",
      "103            255.0            255.0            255.0        218.269382   \n",
      "50             254.0            254.0            254.0        199.665006   \n",
      "96             251.0            251.0            251.0        197.757162   \n",
      "108            255.0            255.0            255.0        209.724858   \n",
      "37             255.0            255.0            255.0        207.875706   \n",
      "\n",
      "     mean_intensity-1  mean_intensity-2  min_intensity-0  min_intensity-1  \\\n",
      "128        175.319930        175.319930             20.0             20.0   \n",
      "32         239.795669        239.795669             54.0             54.0   \n",
      "39         199.943885        199.943885             24.0             24.0   \n",
      "14         208.674963        208.674963             39.0             39.0   \n",
      "5          204.278226        204.278226             31.0             31.0   \n",
      "115        178.086022        178.086022              9.0              9.0   \n",
      "98         211.231788        211.231788             22.0             22.0   \n",
      "68         212.711268        212.711268             39.0             39.0   \n",
      "54         119.697460        119.697460             27.0             27.0   \n",
      "20         141.947455        141.947455             27.0             27.0   \n",
      "2          213.530612        213.530612             34.0             34.0   \n",
      "63         221.018424        221.018424             24.0             24.0   \n",
      "109        200.304965        200.304965             32.0             32.0   \n",
      "6          199.295775        199.295775             34.0             34.0   \n",
      "38         207.630252        207.630252             25.0             25.0   \n",
      "52         211.616637        211.616637             58.0             58.0   \n",
      "114        200.224678        200.224678             20.0             20.0   \n",
      "7          231.034737        231.034737             33.0             33.0   \n",
      "69         205.681435        205.681435             20.0             20.0   \n",
      "48         235.998290        235.998290             57.0             57.0   \n",
      "24         206.989031        206.989031             29.0             29.0   \n",
      "29         217.347548        217.347548             35.0             35.0   \n",
      "110        234.597946        234.597946             62.0             62.0   \n",
      "40         179.416887        179.416887             29.0             29.0   \n",
      "15          91.155709         91.155709             12.0             12.0   \n",
      "103        218.269382        218.269382             22.0             22.0   \n",
      "50         199.665006        199.665006             30.0             30.0   \n",
      "96         197.757162        197.757162             10.0             10.0   \n",
      "108        209.724858        209.724858             44.0             44.0   \n",
      "37         207.875706        207.875706             13.0             13.0   \n",
      "\n",
      "     min_intensity-2  probability  \n",
      "128             20.0     0.005805  \n",
      "32              54.0     0.044053  \n",
      "39              24.0     0.007053  \n",
      "14              39.0     0.006931  \n",
      "5               31.0     0.007550  \n",
      "115              9.0     0.004719  \n",
      "98              22.0     0.007662  \n",
      "68              39.0     0.005764  \n",
      "54              27.0     0.004394  \n",
      "20              27.0     0.006180  \n",
      "2               34.0     0.005967  \n",
      "63              24.0     0.009915  \n",
      "109             32.0     0.005724  \n",
      "6               34.0     0.007205  \n",
      "38              25.0     0.004830  \n",
      "52              58.0     0.005612  \n",
      "114             20.0     0.005510  \n",
      "7               33.0     0.009641  \n",
      "69              20.0     0.004810  \n",
      "48              57.0     0.017800  \n",
      "24              29.0     0.005551  \n",
      "29              35.0     0.004759  \n",
      "110             62.0     0.013832  \n",
      "40              29.0     0.007692  \n",
      "15              12.0     0.005866  \n",
      "103             22.0     0.007723  \n",
      "50              30.0     0.008149  \n",
      "96              10.0     0.007439  \n",
      "108             44.0     0.005348  \n",
      "37              13.0     0.005389  \n"
     ]
    }
   ],
   "source": [
    "def select_grains_weighted(data, n):\n",
    "    \"\"\"Selects n grains from a grain size .csv based on their area, weighted by probability.\n",
    "\n",
    "    Args:\n",
    "        data: Pandas DataFrame containing grain data with columns 'area'.\n",
    "        n: Number of grains to select.\n",
    "\n",
    "    Returns:\n",
    "        Pandas DataFrame containing the selected grains.\n",
    "    \"\"\"\n",
    "\n",
    "    # Calculate probabilities based on area\n",
    "    data['probability'] = data['area'] / data['area'].sum()\n",
    "\n",
    "    # Sample n grains based on probabilities\n",
    "    selected_grains = data.sample(n, replace=False, weights='probability')\n",
    "\n",
    "    return selected_grains\n",
    "\n",
    "# Example usage\n",
    "# Replace 'grain_size.csv' with your actual file path\n",
    "data = pd.read_csv(r\"C:\\Users\\juan_\\Python\\JSG_2024_Hackathon\\1973\\wellsorted_lowerfinegrainsize.csv\")\n",
    "\n",
    "# Select 100 grains based on area-weighted probability\n",
    "selected_grains = select_grains_weighted(data, 30)\n",
    "\n",
    "print(selected_grains)"
   ]
  },
  {
   "cell_type": "code",
   "execution_count": 32,
   "id": "47ab06ff-6155-42e6-af75-fe4b68c58c53",
   "metadata": {},
   "outputs": [],
   "source": [
    "# plot histogram of grain axis lengths\n",
    "plt.figure()\n",
    "plt.hist(selected_grains['major_axis_length'], np.arange(0, 100, 1), alpha=0.5)\n",
    "plt.hist(selected_grains['minor_axis_length'], np.arange(0, 100, 1), alpha=0.5)\n",
    "plt.xlim(0,100)\n",
    "plt.xlabel('axis length (microns)')\n",
    "plt.ylabel('count');"
   ]
  },
  {
   "cell_type": "markdown",
   "id": "bfaa93f5-5cd0-44c0-9879-c3de46eb27a5",
   "metadata": {},
   "source": [
    "## Run and plot Montecarlo Simulation"
   ]
  },
  {
   "cell_type": "code",
   "execution_count": 35,
   "id": "132dfcb8-94ca-44cf-a706-473acfd8988b",
   "metadata": {},
   "outputs": [],
   "source": [
    "# Attempt 1\n",
    "\n",
    "from scipy.stats import gaussian_kde\n",
    "\n",
    "# Repeat the selection process 1000 times\n",
    "num_iterations = 1000\n",
    "major_axis_lengths = []\n",
    "minor_axis_lengths = []\n",
    "\n",
    "for _ in range(num_iterations):\n",
    "    selected_grains = select_grains_weighted(data, 30)\n",
    "    major_axis_lengths.extend(selected_grains['major_axis_length'])\n",
    "    minor_axis_lengths.extend(selected_grains['minor_axis_length'])\n",
    "\n",
    "# Calculate KDEs\n",
    "kde_major = gaussian_kde(major_axis_lengths)\n",
    "kde_minor = gaussian_kde(minor_axis_lengths)\n",
    "\n",
    "# Plot KDEs\n",
    "x_vals = np.linspace(0, 100, 1000)\n",
    "plt.figure()\n",
    "plt.plot(x_vals, kde_major(x_vals), label='Major Axis Length')\n",
    "plt.plot(x_vals, kde_minor(x_vals), label='Minor Axis Length')\n",
    "plt.xlim(0, 100)\n",
    "plt.xlabel('Axis Length (microns)')\n",
    "plt.ylabel('Density')\n",
    "plt.legend()\n",
    "plt.title('KDE of Grain Axis Lengths')\n",
    "plt.show()"
   ]
  },
  {
   "cell_type": "code",
   "execution_count": 39,
   "id": "0aabbe3f-f20b-41e4-9d2a-3c82945022a1",
   "metadata": {},
   "outputs": [
    {
     "name": "stderr",
     "output_type": "stream",
     "text": [
      "C:\\Users\\juan_\\AppData\\Local\\Temp\\ipykernel_14604\\3638608907.py:21: MatplotlibDeprecationWarning: The get_cmap function was deprecated in Matplotlib 3.7 and will be removed two minor releases later. Use ``matplotlib.colormaps[name]`` or ``matplotlib.colormaps.get_cmap(obj)`` instead.\n",
      "  cmap = get_cmap('tab20')  # Choose a colormap\n"
     ]
    }
   ],
   "source": [
    "# Succesful attempt\n",
    "\n",
    "from scipy.stats import gaussian_kde\n",
    "from matplotlib.cm import get_cmap\n",
    "\n",
    "# Repeat the selection process 100 times\n",
    "num_iterations = 100\n",
    "major_axis_lengths = []\n",
    "minor_axis_lengths = []\n",
    "\n",
    "for _ in range(num_iterations):\n",
    "    selected_grains = select_grains_weighted(data, 30)\n",
    "    major_axis_lengths.append(selected_grains['major_axis_length'])\n",
    "    minor_axis_lengths.append(selected_grains['minor_axis_length'])\n",
    "\n",
    "# Calculate KDEs\n",
    "kde_major = [gaussian_kde(data) for data in major_axis_lengths]\n",
    "kde_minor = [gaussian_kde(data) for data in minor_axis_lengths]\n",
    "\n",
    "# Plot KDEs\n",
    "x_vals = np.linspace(0, 100, 1000)\n",
    "plt.figure()\n",
    "cmap = get_cmap('tab20')  # Choose a colormap\n",
    "\n",
    "for i in range(num_iterations):\n",
    "    plt.plot(x_vals, kde_major[i](x_vals), label=f'Major Axis Length {i+1}', color=cmap(i/num_iterations))\n",
    "    plt.plot(x_vals, kde_minor[i](x_vals), label=f'Minor Axis Length {i+1}', color=cmap(i/num_iterations))\n",
    "\n",
    "plt.xlim(0, 100)\n",
    "plt.xlabel('Axis Length (microns)')\n",
    "plt.ylabel('Density')\n",
    "#plt.legend()\n",
    "plt.title('KDE of Grain Axis Lengths (Monte Carlo Simulations)')\n",
    "plt.show()"
   ]
  },
  {
   "cell_type": "code",
   "execution_count": null,
   "id": "a721906e-8dfd-4111-aa8e-225ab95137ec",
   "metadata": {},
   "outputs": [],
   "source": [
    "## Better figure"
   ]
  },
  {
   "cell_type": "code",
   "execution_count": 40,
   "id": "0df6a867-9f40-4214-995c-276f3edcf5c3",
   "metadata": {},
   "outputs": [],
   "source": [
    "# Find the median KDE\n",
    "median_major_kde = gaussian_kde(np.concatenate(major_axis_lengths))\n",
    "median_minor_kde = gaussian_kde(np.concatenate(minor_axis_lengths))\n",
    "\n",
    "# Find the minimum and maximum KDE values at each x-value\n",
    "x_vals = np.linspace(0, 100, 1000)\n",
    "major_kde_min = np.min([kde(x_vals) for kde in kde_major], axis=0)\n",
    "major_kde_max = np.max([kde(x_vals) for kde in kde_major], axis=0)\n",
    "minor_kde_min = np.min([kde(x_vals) for kde in kde_minor], axis=0)\n",
    "minor_kde_max = np.max([kde(x_vals) for kde in kde_minor], axis=0)\n",
    "\n",
    "# Plot KDEs with shaded area and median line\n",
    "plt.figure()\n",
    "plt.fill_between(x_vals, major_kde_min, major_kde_max, alpha=0.2, label='Major Axis Length')\n",
    "plt.plot(x_vals, median_major_kde(x_vals), label='Major Axis Length Median')\n",
    "plt.fill_between(x_vals, minor_kde_min, minor_kde_max, alpha=0.2, label='Minor Axis Length')\n",
    "plt.plot(x_vals, median_minor_kde(x_vals), label='Minor Axis Length Median')\n",
    "\n",
    "plt.xlim(0, 100)\n",
    "plt.xlabel('Axis Length (microns)')\n",
    "plt.ylabel('Density')\n",
    "plt.legend()\n",
    "plt.title('KDE of Grain Axis Lengths (Monte Carlo Simulations)')\n",
    "plt.show()"
   ]
  },
  {
   "cell_type": "markdown",
   "id": "039415c6",
   "metadata": {},
   "source": [
    "## Save mask and grain labels to PNG files"
   ]
  },
  {
   "cell_type": "code",
   "execution_count": 23,
   "id": "c4962ba6",
   "metadata": {},
   "outputs": [
    {
     "data": {
      "text/plain": [
       "True"
      ]
     },
     "execution_count": 23,
     "metadata": {},
     "output_type": "execute_result"
    }
   ],
   "source": [
    "dirname = r'C:\\Users\\juan_\\Python\\JSG_2024_Hackathon\\segmenteverygrain\\segmenteverygrain\\results'\n",
    "# write grayscale mask to PNG file\n",
    "cv2.imwrite(dirname + fname.split('/')[-1][:-4] + '_mask.png', mask_all)\n",
    "# Save the image as a PNG file\n",
    "cv2.imwrite(dirname + fname.split('/')[-1][:-4] + '_image.png', cv2.cvtColor(image, cv2.COLOR_BGR2RGB))"
   ]
  },
  {
   "cell_type": "markdown",
   "id": "77db7f2b-7718-4466-a1d8-41aa3d3d0803",
   "metadata": {},
   "source": [
    "## Run segmentation on large image (new!)\n",
    "In this case 'fname' points to an image that is larger than a few megapixels and has thousands of grains.\n",
    "The 'predict_large_image' function breaks the input image into smaller patches and it runs the segmentation process on each patch."
   ]
  },
  {
   "cell_type": "code",
   "execution_count": 24,
   "id": "90eed72b-4cad-409a-b7bf-bbad0e5dfa74",
   "metadata": {
    "scrolled": true
   },
   "outputs": [
    {
     "name": "stdout",
     "output_type": "stream",
     "text": [
      "segmenting image tiles...\n"
     ]
    },
    {
     "name": "stderr",
     "output_type": "stream",
     "text": [
      "100%|████████████████████████████████████████████████████████████████████████████████████| 4/4 [00:02<00:00,  1.69it/s]\n",
      "100%|████████████████████████████████████████████████████████████████████████████████████| 3/3 [00:01<00:00,  1.78it/s]\n"
     ]
    },
    {
     "name": "stdout",
     "output_type": "stream",
     "text": [
      "creating masks using SAM...\n"
     ]
    },
    {
     "name": "stderr",
     "output_type": "stream",
     "text": [
      "100%|████████████████████████████████████████████████████████████████████████████████| 350/350 [00:27<00:00, 12.60it/s]\n"
     ]
    },
    {
     "name": "stdout",
     "output_type": "stream",
     "text": [
      "finding overlapping polygons...\n"
     ]
    },
    {
     "name": "stderr",
     "output_type": "stream",
     "text": [
      "320it [00:00, 596.72it/s]\n"
     ]
    },
    {
     "name": "stdout",
     "output_type": "stream",
     "text": [
      "finding best polygons...\n"
     ]
    },
    {
     "name": "stderr",
     "output_type": "stream",
     "text": [
      "100%|███████████████████████████████████████████████████████████████████████████████| 118/118 [00:00<00:00, 246.86it/s]\n"
     ]
    },
    {
     "name": "stdout",
     "output_type": "stream",
     "text": [
      "creating labeled image...\n",
      "processed patch #1 out of 1 patches\n"
     ]
    },
    {
     "name": "stderr",
     "output_type": "stream",
     "text": [
      "128it [00:00, 2573.88it/s]\n",
      "0it [00:00, ?it/s]\n"
     ]
    }
   ],
   "source": [
    "from PIL import Image\n",
    "Image.MAX_IMAGE_PIXELS = None # needed if working with very large images\n",
    "fname = r\"C:\\Users\\juan_\\Python\\JSG_2024_Hackathon\\1973\\wellsorted_lowerfinegrainsize.PNG\"\n",
    "all_grains = seg.predict_large_image(fname, model, sam, min_area=400.0, patch_size=2000, overlap=200)"
   ]
  },
  {
   "cell_type": "code",
   "execution_count": 25,
   "id": "d1e52b04-e54e-44e6-8061-b8d0c0c76970",
   "metadata": {},
   "outputs": [
    {
     "name": "stderr",
     "output_type": "stream",
     "text": [
      "100%|███████████████████████████████████████████████████████████████████████████████| 128/128 [00:00<00:00, 180.55it/s]\n"
     ]
    }
   ],
   "source": [
    "# plot results\n",
    "image = np.array(load_img(fname))\n",
    "fig, ax = plt.subplots(figsize=(15,10))\n",
    "plt.xticks([])\n",
    "plt.yticks([])\n",
    "seg.plot_image_w_colorful_grains(image, all_grains, ax, cmap='Paired')\n",
    "plt.axis('equal')\n",
    "plt.xlim([0, np.shape(image)[1]])\n",
    "plt.ylim([np.shape(image)[0], 0]);"
   ]
  },
  {
   "cell_type": "code",
   "execution_count": 26,
   "id": "4dae73a8-f9ce-4fb9-8661-19d4c03340f3",
   "metadata": {},
   "outputs": [],
   "source": [
    "# this is a faster way of deleting false positives (because it avoids highlighting and deleting the 'bad' grains)\n",
    "grain_inds = []\n",
    "cid1 = fig.canvas.mpl_connect('button_press_event', lambda event: seg.onclick2(event, all_grains, grain_inds, ax=ax, select_only=True))"
   ]
  },
  {
   "cell_type": "code",
   "execution_count": 27,
   "id": "98b9650b-c6d9-4c23-85cc-b0234f3d2b2b",
   "metadata": {},
   "outputs": [
    {
     "name": "stderr",
     "output_type": "stream",
     "text": [
      "0it [00:00, ?it/s]\n"
     ]
    }
   ],
   "source": [
    "from tqdm import tqdm\n",
    "# delete polygons from 'all_grains'\n",
    "grain_inds = np.unique(grain_inds)\n",
    "grain_inds = sorted(grain_inds, reverse=True)\n",
    "for ind in tqdm(grain_inds):\n",
    "    all_grains.remove(all_grains[ind])"
   ]
  },
  {
   "cell_type": "markdown",
   "id": "74b9e579-8c81-4baf-9262-eb4b1584c646",
   "metadata": {},
   "source": [
    "After plotting the results, you will want to use the functions for deleting, merging, and adding grains (see above), before saving the results (same workflow as for a small image)."
   ]
  },
  {
   "cell_type": "code",
   "execution_count": null,
   "id": "a16c472f-df00-4ac7-862d-4c15ce421f22",
   "metadata": {},
   "outputs": [],
   "source": []
  },
  {
   "cell_type": "code",
   "execution_count": null,
   "id": "e697e197-cb0f-45c6-99ac-51b248e62128",
   "metadata": {},
   "outputs": [],
   "source": []
  }
 ],
 "metadata": {
  "kernelspec": {
   "display_name": "Python 3 (ipykernel)",
   "language": "python",
   "name": "python3"
  },
  "language_info": {
   "codemirror_mode": {
    "name": "ipython",
    "version": 3
   },
   "file_extension": ".py",
   "mimetype": "text/x-python",
   "name": "python",
   "nbconvert_exporter": "python",
   "pygments_lexer": "ipython3",
   "version": "3.8.20"
  }
 },
 "nbformat": 4,
 "nbformat_minor": 5
}
